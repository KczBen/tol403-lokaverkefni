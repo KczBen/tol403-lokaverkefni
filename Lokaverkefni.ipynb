{
  "nbformat": 4,
  "nbformat_minor": 0,
  "metadata": {
    "colab": {
      "provenance": [],
      "authorship_tag": "ABX9TyOrcbKPt5BLGFqACOmZ8rW7",
      "include_colab_link": true
    },
    "kernelspec": {
      "name": "python3",
      "display_name": "Python 3"
    },
    "language_info": {
      "name": "python"
    }
  },
  "cells": [
    {
      "cell_type": "markdown",
      "metadata": {
        "id": "view-in-github",
        "colab_type": "text"
      },
      "source": [
        "<a href=\"https://colab.research.google.com/github/KczBen/tol403-lokaverkefni/blob/main/Lokaverkefni.ipynb\" target=\"_parent\"><img src=\"https://colab.research.google.com/assets/colab-badge.svg\" alt=\"Open In Colab\"/></a>"
      ]
    },
    {
      "cell_type": "code",
      "source": [
        "# Clone repo data into environment\n",
        "!git clone https://github.com/KczBen/tol403-lokaverkefni.git"
      ],
      "metadata": {
        "collapsed": true,
        "id": "CRNCAoXgqBky"
      },
      "execution_count": null,
      "outputs": []
    },
    {
      "cell_type": "code",
      "source": [
        "import pandas as pd\n",
        "import folium\n",
        "from folium import Map, Marker, PolyLine, features, RegularPolygonMarker, DivIcon\n",
        "from folium.plugins import PolyLineTextPath\n",
        "import math\n",
        "import networkx as nx\n",
        "import time"
      ],
      "metadata": {
        "id": "XTF7FARsxHrt"
      },
      "execution_count": null,
      "outputs": []
    },
    {
      "cell_type": "code",
      "execution_count": null,
      "metadata": {
        "id": "ycL1dI4OWqfj"
      },
      "outputs": [],
      "source": [
        "# 2.3.1\n",
        "\n",
        "nodes = pd.read_csv('tol403-lokaverkefni/data/nodes.tsv', sep = \"\\t\")\n",
        "edges = pd.read_csv('tol403-lokaverkefni/data/edges.tsv', sep = \"\\t\")\n",
        "\n",
        "charging_station_nodes = {323346405, 87120378, 2374444198, 1345740157, 2351742223}\n",
        "\n",
        "coords = {\n",
        "    row['osmid']: (row['y'], row['x'])  # Folium notar (lat, lon)\n",
        "    for _, row in nodes.iterrows()\n",
        "}\n",
        "\n",
        "# búum til graf með stefnu og þyngd fyrir edges\n",
        "G = nx.DiGraph()\n",
        "for _, row in edges.iterrows():\n",
        "    G.add_edge(row['u'], row['v'], weight=row['length'])"
      ]
    },
    {
      "cell_type": "code",
      "source": [
        "# 2.3.2\n",
        "def shortest_distance_to_charger(node_id, graph, charger_nodes):\n",
        "    min_distance = float('inf')\n",
        "    closest_station = None\n",
        "    for charger_id in charger_nodes:\n",
        "        try:\n",
        "            dist = nx.dijkstra_path_length(graph, source=node_id, target=charger_id, weight='weight')\n",
        "            if dist < min_distance:\n",
        "                min_distance = dist\n",
        "                closest_station = charger_id\n",
        "        except (nx.NetworkXNoPath, nx.NodeNotFound):\n",
        "            continue\n",
        "    return min_distance, closest_station"
      ],
      "metadata": {
        "id": "kQ5UuoqKO6XN"
      },
      "execution_count": null,
      "outputs": []
    },
    {
      "cell_type": "code",
      "source": [
        "# 2.3.3\n",
        "\n",
        "def create_map():\n",
        "    # Búum til base map með miðju í average location.\n",
        "    center_lat = nodes['y'].mean()\n",
        "    center_lon = nodes['x'].mean()\n",
        "    m = folium.Map(location = [center_lat, center_lon], zoom_start= 12)\n",
        "\n",
        "    # reiknum gráður fyrir örina sjálfa\n",
        "    def calculate_angle(start, end):\n",
        "        dy = end[0] - start[0]\n",
        "        dx = end[1] - start[1]\n",
        "        angle = math.degrees(math.atan2(dy, dx))\n",
        "        return angle\n",
        "\n",
        "    start_time = time.time()\n",
        "\n",
        "    # setjum nodes á kortið - blátt=nonprimary rautt=primary og appelsínugult= hleðslustöð.\n",
        "    for _, row in nodes.iterrows():\n",
        "        node_id = row['osmid']\n",
        "\n",
        "        # Decide color and popup content\n",
        "        if node_id in charging_station_nodes:\n",
        "            color = \"orange\"\n",
        "            popup_text = f\"🔌 Hleðslustöð <br>Node ID: {node_id}\"\n",
        "        else:\n",
        "            color = \"red\" if row['primary'] else \"blue\"\n",
        "            distance, closest = shortest_distance_to_charger(node_id, G, charging_station_nodes)\n",
        "            popup_text = f\"🚗 Node ID: {node_id}<br>Primary: {row['primary']}<br>\" \\\n",
        "                        f\"Fjarlægð frá næstu hleðslustöð: {distance:.2f} meters<br>Næsta hleðslustöð: {closest}\"\n",
        "\n",
        "        folium.CircleMarker(\n",
        "            location=[row['y'], row['x']],\n",
        "            radius=4,\n",
        "            color=color,\n",
        "            fill=True,\n",
        "            fill_color=color,\n",
        "            fill_opacity=0.8,\n",
        "            popup=folium.Popup(popup_text, max_width=250)\n",
        "        ).add_to(m)\n",
        "\n",
        "    print(f\"Keyrsla tók {int(time.time() - start_time)}s\")\n",
        "\n",
        "    # setjum edges með stefnu á kortið\n",
        "    for _, row in edges.iterrows():\n",
        "        if row['u'] in coords and row['v'] in coords:\n",
        "            start = coords[row['u']]\n",
        "            end = coords[row['v']]\n",
        "\n",
        "            # línan\n",
        "            PolyLine(\n",
        "                locations=[start, end],\n",
        "                color='gray',\n",
        "                weight=1,\n",
        "                opacity=0.5,\n",
        "                popup=row.get('name', '')\n",
        "            ).add_to(m)\n",
        "\n",
        "            # Reiknum gráðu á ör-iconinu og setjum svo á endann á línunni\n",
        "            # vantar að laga betur, gerir kortið mjög hægt líka.\n",
        "            \"\"\"angle = calculate_angle(start, end)\n",
        "            folium.map.Marker(\n",
        "                location=end,\n",
        "                icon=DivIcon(\n",
        "                    icon_size=(150, 36),\n",
        "                    icon_anchor=(7, 20),\n",
        "                    html=f'<div style=\"transform: rotate({angle}deg); color: gray; font-size: 16px;\">&#8594;</div>'\n",
        "                )\n",
        "            ).add_to(m)\"\"\"\n",
        "\n",
        "\n",
        "    output_file = \"kort.html\"\n",
        "    m.save(output_file)\n",
        "    print(f\"Kort geymt i skra: {output_file}\")\n",
        "\n",
        "start_time = 0\n",
        "run_time = 0\n",
        "\n",
        "create_map()"
      ],
      "metadata": {
        "id": "SfNz_MbCcT1U"
      },
      "execution_count": null,
      "outputs": []
    },
    {
      "cell_type": "code",
      "source": [
        "# 2.3.4\n",
        "\n",
        "## it's in the code above"
      ],
      "metadata": {
        "id": "8_jX2v9ReTeB"
      },
      "execution_count": null,
      "outputs": []
    },
    {
      "cell_type": "code",
      "source": [
        "# 2.3.5\n",
        "\n",
        "## Heuristic for A*\n",
        "## Needlessly complicated on such a small scale\n",
        "## Calculate the distance between two points on the surface of a sphere\n",
        "## It's somewhat off up here since the Earth isn't a perfect sphere\n",
        "\n",
        "def calc_spherical_distance(node_id, target_id):\n",
        "    lat_source,lon_source = coords[node_id]\n",
        "    lat_target,lon_target = coords[target_id]\n",
        "\n",
        "    radius = 6373.0\n",
        "\n",
        "    delta_lat = math.radians(lat_target) - math.radians(lat_source)\n",
        "    delta_lon = math.radians(lon_target) - math.radians(lon_source)\n",
        "\n",
        "    a = math.sin(delta_lat / 2)**2 + math.cos(lat_source) * math.cos(lat_target) * math.sin(delta_lon / 2)**2\n",
        "    c = 2 * math.atan2(math.sqrt(a), math.sqrt(1 - a))\n",
        "\n",
        "    distance = radius * c * 1000 #metres\n",
        "\n",
        "    return distance\n",
        "\n",
        "def astar_distance_to_charger(node_id, graph, charger_nodes):\n",
        "    min_distance = float('inf')\n",
        "    closest_station = None\n",
        "    for charger_id in charger_nodes:\n",
        "        try:\n",
        "            dist = nx.astar_path_length(graph, source=node_id, target=charger_id, heuristic=calc_spherical_distance, weight='weight')\n",
        "            if dist < min_distance:\n",
        "                min_distance = dist\n",
        "                closest_station = charger_id\n",
        "        except (nx.NetworkXNoPath, nx.NodeNotFound):\n",
        "            continue\n",
        "    return min_distance, closest_station\n",
        "\n",
        "\n",
        "## Return the sum for later use\n",
        "def run_astar(charging_station_nodes, benchmark):\n",
        "    distance_sum = 0.0\n",
        "    if benchmark == True:\n",
        "        start_time = time.time()\n",
        "\n",
        "    for _, row in nodes.iterrows():\n",
        "        node_id = row['osmid']\n",
        "        distance, closest = astar_distance_to_charger(node_id, G, charging_station_nodes)\n",
        "\n",
        "        ## Ignore unreachable paths\n",
        "        if distance != float(\"inf\"):\n",
        "            distance_sum += distance\n",
        "\n",
        "    if benchmark == True:\n",
        "        print(f\"Keyrsla tók {int(time.time() - start_time)}s\")\n",
        "\n",
        "    return distance_sum\n",
        "\n",
        "run_astar(charging_station_nodes, True)"
      ],
      "metadata": {
        "id": "NPSUIwKNj7a-"
      },
      "execution_count": null,
      "outputs": []
    },
    {
      "cell_type": "code",
      "source": [
        "# 2.3.6\n",
        "\n",
        "## For all primary nodes, run A* and check whichever is the closest to all nodes overall\n",
        "\n",
        "def place_optimal_charger():\n",
        "    ## first get primary nodes\n",
        "\n",
        "    primary_nodes = []\n",
        "    best_distance = float(\"inf\")\n",
        "    best_node = None\n",
        "\n",
        "    for _,row in nodes.iterrows():\n",
        "        if row['primary'] == True:\n",
        "            primary_nodes.append(row)\n",
        "\n",
        "    ## Now run it for every primary node and see what we get\n",
        "    for node in primary_nodes:\n",
        "        distance = run_astar([node], False)\n",
        "        if distance < best_distance:\n",
        "            best_distance = distance\n",
        "            best_node = node\n",
        "\n",
        "    return best_node, best_distance\n",
        "\n",
        "place_optimal_charger()"
      ],
      "metadata": {
        "id": "VIqY8tgWLIsF"
      },
      "execution_count": null,
      "outputs": []
    }
  ]
}
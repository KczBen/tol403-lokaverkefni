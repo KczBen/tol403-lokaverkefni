{
  "cells": [
    {
      "cell_type": "markdown",
      "metadata": {
        "colab_type": "text",
        "id": "view-in-github"
      },
      "source": [
        "<a href=\"https://colab.research.google.com/github/KczBen/tol403-lokaverkefni/blob/main/Lokaverkefni.ipynb\" target=\"_parent\"><img src=\"https://colab.research.google.com/assets/colab-badge.svg\" alt=\"Open In Colab\"/></a>"
      ]
    },
    {
      "cell_type": "code",
      "execution_count": null,
      "metadata": {
        "colab": {
          "base_uri": "https://localhost:8080/"
        },
        "collapsed": true,
        "id": "CRNCAoXgqBky",
        "outputId": "5aebdec0-c4dc-4794-c91f-6876a5f0ab93"
      },
      "outputs": [],
      "source": [
        "# Clone repo data into environment\n",
        "!git clone https://github.com/KczBen/tol403-lokaverkefni.git"
      ]
    },
    {
      "cell_type": "code",
      "execution_count": 11,
      "metadata": {
        "id": "XTF7FARsxHrt"
      },
      "outputs": [],
      "source": [
        "import pandas as pd\n",
        "import folium\n",
        "from folium import Map, Marker, PolyLine, features, RegularPolygonMarker, DivIcon\n",
        "from folium.plugins import PolyLineTextPath\n",
        "import math\n",
        "import networkx as nx\n",
        "import time\n",
        "import random\n",
        "import multiprocessing"
      ]
    },
    {
      "cell_type": "code",
      "execution_count": null,
      "metadata": {
        "id": "ycL1dI4OWqfj"
      },
      "outputs": [],
      "source": [
        "# 2.3.1\n",
        "\n",
        "nodes = pd.read_csv('tol403-lokaverkefni/data/nodes.tsv', sep = \"\\t\")\n",
        "edges = pd.read_csv('tol403-lokaverkefni/data/edges.tsv', sep = \"\\t\")\n",
        "\n",
        "charging_station_nodes = {323346405, 87120378, 2374444198, 1345740157, 2351742223}\n",
        "\n",
        "coords = {\n",
        "    row['osmid']: (row['y'], row['x'])  # Folium notar (lat, lon)\n",
        "    for _, row in nodes.iterrows()\n",
        "}\n",
        "\n",
        "# búum til graf með stefnu og þyngd fyrir edges\n",
        "G = nx.DiGraph()\n",
        "for _, row in edges.iterrows():\n",
        "    G.add_edge(row['u'], row['v'], weight=row['length'])\n",
        "\n",
        "## Need to reverse in some cases because it's directed\n",
        "G_rev = G.reverse()"
      ]
    },
    {
      "cell_type": "code",
      "execution_count": 13,
      "metadata": {
        "id": "kQ5UuoqKO6XN"
      },
      "outputs": [],
      "source": [
        "# 2.3.2\n",
        "\n",
        "def shortest_distance_to_charger(node_id, graph, charger_nodes):\n",
        "    min_distance = float('inf')\n",
        "    closest_station = None\n",
        "    for charger_id in charger_nodes:\n",
        "        try:\n",
        "            dist = nx.dijkstra_path_length(graph, source=node_id, target=charger_id, weight='weight')\n",
        "            if dist < min_distance:\n",
        "                min_distance = dist\n",
        "                closest_station = charger_id\n",
        "        except (nx.NetworkXNoPath, nx.NodeNotFound):\n",
        "            continue\n",
        "    return min_distance, closest_station"
      ]
    },
    {
      "cell_type": "code",
      "execution_count": 14,
      "metadata": {
        "colab": {
          "base_uri": "https://localhost:8080/"
        },
        "id": "SfNz_MbCcT1U",
        "outputId": "2b5c1130-0b22-488f-bbb7-bbf7926fe1a1"
      },
      "outputs": [
        {
          "name": "stdout",
          "output_type": "stream",
          "text": [
            "Keyrsla tók 25s\n",
            "Kort geymt i skra: kort_2_3_3.html\n"
          ]
        }
      ],
      "source": [
        "# 2.3.3\n",
        "\n",
        "def process_node_wrapper(args):\n",
        "    row, charger_nodes, G, charger_only = args\n",
        "    node_id = row['osmid']\n",
        "    if node_id in charger_nodes:\n",
        "        color = \"orange\"\n",
        "        popup_text = f\"🔌 Hleðslustöð <br>Node ID: {node_id}\"\n",
        "    elif charger_only == False:\n",
        "        color = \"red\" if row['primary'] else \"blue\"\n",
        "        distance, closest = shortest_distance_to_charger(node_id, G, charger_nodes)\n",
        "        popup_text = (f\"🚗 Node ID: {node_id}<br>Primary: {row['primary']}<br>\"\n",
        "                      f\"Fjarlægð frá næstu hleðslustöð: {distance:.2f} meters<br>\"\n",
        "                      f\"Næsta hleðslustöð: {closest}\")\n",
        "    else:\n",
        "        return None\n",
        "    \n",
        "    return {\n",
        "        'location': [row['y'], row['x']],\n",
        "        'color': color,\n",
        "        'popup_text': popup_text\n",
        "    }\n",
        "\n",
        "# keyrsla gæti tekið sirka 5-10 mín\n",
        "def create_map(charger_nodes, map_name, chargers_only = False):\n",
        "    center_lat = nodes['y'].mean()\n",
        "    center_lon = nodes['x'].mean()\n",
        "    m = folium.Map(location=[center_lat, center_lon], zoom_start=12)\n",
        "\n",
        "    start_time = time.time()\n",
        "\n",
        "    row_args = [\n",
        "        (row, charger_nodes, G, chargers_only)\n",
        "        for _, row in nodes.iterrows()\n",
        "    ]\n",
        "\n",
        "    # ryzen 7 go brrrr\n",
        "    with multiprocessing.Pool() as pool:\n",
        "        marker_data_list = pool.map(process_node_wrapper, row_args)\n",
        "\n",
        "    for md in marker_data_list:\n",
        "        if md is None:\n",
        "            continue\n",
        "        \n",
        "        folium.CircleMarker(\n",
        "            location=md['location'],\n",
        "            radius=4,\n",
        "            color=md['color'],\n",
        "            fill=True,\n",
        "            fill_color=md['color'],\n",
        "            fill_opacity=0.8,\n",
        "            popup=folium.Popup(md['popup_text'], max_width=250)\n",
        "        ).add_to(m)\n",
        "\n",
        "    print(f\"Keyrsla tók {int(time.time() - start_time)}s\")\n",
        "\n",
        "    for _, row in edges.iterrows():\n",
        "        if row['u'] in coords and row['v'] in coords:\n",
        "            start = coords[row['u']]\n",
        "            end = coords[row['v']]\n",
        "            PolyLine(\n",
        "                locations=[start, end],\n",
        "                color='gray',\n",
        "                weight=1,\n",
        "                opacity=0.5,\n",
        "                popup=row.get('name', '')\n",
        "            ).add_to(m)\n",
        "\n",
        "            # Reiknum gráðu á ör-iconinu og setjum svo á endann á línunni\n",
        "            # vantar að laga betur, gerir kortið mjög hægt líka.\n",
        "            \"\"\"angle = calculate_angle(start, end)\n",
        "            folium.map.Marker(\n",
        "                location=end,\n",
        "                icon=DivIcon(\n",
        "                    icon_size=(150, 36),\n",
        "                    icon_anchor=(7, 20),\n",
        "                    html=f'<div style=\"transform: rotate({angle}deg); color: gray; font-size: 16px;\">&#8594;</div>'\n",
        "                )\n",
        "            ).add_to(m)\"\"\"\n",
        "\n",
        "    m.save(map_name)\n",
        "    print(f\"Kort geymt i skra: {map_name}\")\n",
        "\n",
        "create_map(charging_station_nodes, \"kort_2_3_3.html\")"
      ]
    },
    {
      "cell_type": "code",
      "execution_count": 15,
      "metadata": {
        "id": "8_jX2v9ReTeB"
      },
      "outputs": [],
      "source": [
        "# 2.3.4\n",
        "\n",
        "## it's in the code above"
      ]
    },
    {
      "cell_type": "code",
      "execution_count": 16,
      "metadata": {
        "id": "NPSUIwKNj7a-"
      },
      "outputs": [
        {
          "name": "stdout",
          "output_type": "stream",
          "text": [
            "Keyrsla tók 19s\n"
          ]
        },
        {
          "data": {
            "text/plain": [
              "52496231.653249905"
            ]
          },
          "execution_count": 16,
          "metadata": {},
          "output_type": "execute_result"
        }
      ],
      "source": [
        "# 2.3.5\n",
        "\n",
        "## Heuristic for A*\n",
        "## Needlessly complicated on such a small scale\n",
        "## Calculate the distance between two points on the surface of a sphere\n",
        "## It's somewhat off up here since the Earth isn't a perfect sphere\n",
        "\n",
        "def calc_spherical_distance(node_id, target_id):\n",
        "    lat_source,lon_source = coords[node_id]\n",
        "    lat_target,lon_target = coords[target_id]\n",
        "\n",
        "    radius = 6373.0\n",
        "\n",
        "    delta_lat = math.radians(lat_target) - math.radians(lat_source)\n",
        "    delta_lon = math.radians(lon_target) - math.radians(lon_source)\n",
        "\n",
        "    a = math.sin(delta_lat / 2)**2 + math.cos(lat_source) * math.cos(lat_target) * math.sin(delta_lon / 2)**2\n",
        "    c = 2 * math.atan2(math.sqrt(a), math.sqrt(1 - a))\n",
        "\n",
        "    distance = radius * c * 1000 #metres\n",
        "\n",
        "    return distance\n",
        "\n",
        "def astar_distance_to_charger(node_id, graph, charger_nodes):\n",
        "    min_distance = float('inf')\n",
        "    closest_station = None\n",
        "    for charger_id in charger_nodes:\n",
        "        try:\n",
        "            dist = nx.astar_path_length(graph, source=node_id, target=charger_id, heuristic=calc_spherical_distance, weight='weight')\n",
        "            if dist < min_distance:\n",
        "                min_distance = dist\n",
        "                closest_station = charger_id\n",
        "        except (nx.NetworkXNoPath, nx.NodeNotFound):\n",
        "            continue\n",
        "    return min_distance, closest_station\n",
        "\n",
        "## Return the sum for later use\n",
        "def process_astar_row(args):\n",
        "    row, charging_station_nodes, G = args\n",
        "    node_id = row['osmid']\n",
        "\n",
        "    distance, closest = astar_distance_to_charger(node_id, G, charging_station_nodes)\n",
        "    return distance if distance != float(\"inf\") else 0.0\n",
        "\n",
        "def run_astar(charging_station_nodes, benchmark):\n",
        "    distance_sum = 0.0\n",
        "    if benchmark:\n",
        "        start_time = time.time()\n",
        "\n",
        "    row_args = [(row, charging_station_nodes, G) for _, row in nodes.iterrows()]\n",
        "    \n",
        "    with multiprocessing.Pool() as pool:\n",
        "        distances = pool.map(process_astar_row, row_args)\n",
        "\n",
        "    distance_sum = sum(distances)\n",
        "\n",
        "    if benchmark:\n",
        "        print(f\"Keyrsla tók {int(time.time() - start_time)}s\")\n",
        "\n",
        "    return distance_sum\n",
        "\n",
        "run_astar(charging_station_nodes, True)"
      ]
    },
    {
      "cell_type": "code",
      "execution_count": null,
      "metadata": {
        "id": "VIqY8tgWLIsF"
      },
      "outputs": [
        {
          "name": "stdout",
          "output_type": "stream",
          "text": [
            "Best node for k = 1 was osmid       34827739\n",
            "x         -21.845736\n",
            "y          64.114075\n",
            "primary         True\n",
            "Name: 589, dtype: object with a distance of 71813532.58901912\n"
          ]
        }
      ],
      "source": [
        "# 2.3.6\n",
        "\n",
        "## For all primary nodes, run Dijkstra on the reversed graph\n",
        "def simple_dijkstra(charger_id):\n",
        "    distances = nx.single_source_dijkstra_path_length(G_rev, charger_id, weight='weight')\n",
        "    distance_sum = sum(distances.values())\n",
        "\n",
        "    return distance_sum\n",
        "\n",
        "def multi_dijkstra(candidate_charger_id: int, placed_charger_ids: set):\n",
        "    chargers = placed_charger_ids.copy()\n",
        "    chargers.add(candidate_charger_id)\n",
        "\n",
        "    distances = nx.multi_source_dijkstra_path_length(G_rev, chargers, weight=\"weight\")\n",
        "    distance_sum = sum(distances.values())\n",
        "\n",
        "    return distance_sum\n",
        "\n",
        "def place_optimal_charger(primary_nodes, used_nodes):\n",
        "    best_distance = float(\"inf\")\n",
        "    best_node = None\n",
        "\n",
        "    for node in primary_nodes:\n",
        "        distance = multi_dijkstra(node.osmid, used_nodes)\n",
        "\n",
        "        if distance < best_distance and distance != 0:\n",
        "            best_distance = distance\n",
        "            best_node = node\n",
        "\n",
        "    return best_node, best_distance\n",
        "\n",
        "primary_nodes = []\n",
        "for _, row in nodes.iterrows():\n",
        "    if row['primary'] == True:\n",
        "        primary_nodes.append(row)\n",
        "\n",
        "optimal_node, distance = place_optimal_charger(primary_nodes, set())\n",
        "print(f\"Best node for k = 1 was {optimal_node} with a distance of {distance}\")"
      ]
    },
    {
      "cell_type": "code",
      "execution_count": 30,
      "metadata": {
        "colab": {
          "base_uri": "https://localhost:8080/"
        },
        "id": "XISWWLnQ1fbE",
        "outputId": "ca9b404c-a647-4565-b673-97335dad9200"
      },
      "outputs": [
        {
          "name": "stdout",
          "output_type": "stream",
          "text": [
            "Added new node 34827739, current distance is 71813532.58901912\n",
            "Added new node 4159611763, current distance is 55332780.57688582\n",
            "Added new node 470316424, current distance is 44243359.814382106\n",
            "Added new node 1204996745, current distance is 37461685.95094731\n",
            "Added new node 470320635, current distance is 34361904.73860957\n",
            "Added new node 253702373, current distance is 31990647.604471616\n",
            "Added new node 2948755314, current distance is 29861914.732461683\n",
            "Added new node 62975525, current distance is 27813118.38432762\n",
            "Added new node 252165232, current distance is 26337079.36916443\n",
            "Added new node 251765347, current distance is 24909868.79067309\n",
            "Keyrsla tók 204s\n",
            "Keyrsla tók 1s\n",
            "Kort geymt i skra: kort_2_3_7.html\n"
          ]
        }
      ],
      "source": [
        "# 2.3.7\n",
        "\n",
        "## Always add the new best node. Obviously have to remove the previously best node\n",
        "\n",
        "def greedy_k_chargers(max_iterations):\n",
        "    used_nodes = set()\n",
        "    best_nodes = []\n",
        "\n",
        "    start_time = time.time()\n",
        "    for k in range(max_iterations):\n",
        "        best_node, dist = place_optimal_charger(primary_nodes, used_nodes)\n",
        "        print(f\"Added new node {best_node.osmid}, current distance is {dist}\")\n",
        "        best_nodes.append(best_node)\n",
        "        used_nodes.add(best_node.osmid)\n",
        "        # Python is awful btw\n",
        "        primary_nodes[:] = [node for node in primary_nodes if not node.equals(best_node)]\n",
        "\n",
        "    print(f\"Keyrsla tók {int(time.time() - start_time)}s\")\n",
        "    return best_nodes\n",
        "\n",
        "greedy_nodes = greedy_k_chargers(10)\n",
        "create_map([node.osmid for node in greedy_nodes], \"kort_2_3_7.html\", True)"
      ]
    },
    {
      "cell_type": "code",
      "execution_count": null,
      "metadata": {
        "colab": {
          "base_uri": "https://localhost:8080/"
        },
        "id": "MAZUUWjaUduT",
        "outputId": "a4d675d0-36a6-41a4-d15a-6b81bd5925db"
      },
      "outputs": [],
      "source": [
        "# 2.3.8\n",
        "\n",
        "## Pick random starting node\n",
        "### Run greedy K for 5 nodes\n",
        "#### Pick best node, then choose the furthest of the remaining 4\n",
        "##### Recurse\n",
        "###### Pick solution with smallest sum of distances at the end\n",
        "\n",
        "def "
      ]
    }
  ],
  "metadata": {
    "colab": {
      "include_colab_link": true,
      "provenance": []
    },
    "kernelspec": {
      "display_name": ".venv",
      "language": "python",
      "name": "python3"
    },
    "language_info": {
      "codemirror_mode": {
        "name": "ipython",
        "version": 3
      },
      "file_extension": ".py",
      "mimetype": "text/x-python",
      "name": "python",
      "nbconvert_exporter": "python",
      "pygments_lexer": "ipython3",
      "version": "3.13.3"
    }
  },
  "nbformat": 4,
  "nbformat_minor": 0
}

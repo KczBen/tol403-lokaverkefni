{
  "nbformat": 4,
  "nbformat_minor": 0,
  "metadata": {
    "colab": {
      "provenance": [],
      "authorship_tag": "ABX9TyOtCiMruDMW9+gtLzzBoN8E",
      "include_colab_link": true
    },
    "kernelspec": {
      "name": "python3",
      "display_name": "Python 3"
    },
    "language_info": {
      "name": "python"
    }
  },
  "cells": [
    {
      "cell_type": "markdown",
      "metadata": {
        "id": "view-in-github",
        "colab_type": "text"
      },
      "source": [
        "<a href=\"https://colab.research.google.com/github/KczBen/tol403-lokaverkefni/blob/main/Lokaverkefni.ipynb\" target=\"_parent\"><img src=\"https://colab.research.google.com/assets/colab-badge.svg\" alt=\"Open In Colab\"/></a>"
      ]
    },
    {
      "cell_type": "code",
      "source": [
        "# Clone repo data into environment\n",
        "!git clone https://github.com/KczBen/tol403-lokaverkefni.git"
      ],
      "metadata": {
        "collapsed": true,
        "id": "CRNCAoXgqBky",
        "outputId": "aac2e350-b880-406d-be47-488a169e95fb",
        "colab": {
          "base_uri": "https://localhost:8080/"
        }
      },
      "execution_count": 3,
      "outputs": [
        {
          "output_type": "stream",
          "name": "stdout",
          "text": [
            "Cloning into 'tol403-lokaverkefni'...\n",
            "remote: Enumerating objects: 17, done.\u001b[K\n",
            "remote: Counting objects: 100% (17/17), done.\u001b[K\n",
            "remote: Compressing objects: 100% (16/16), done.\u001b[K\n",
            "remote: Total 17 (delta 3), reused 5 (delta 0), pack-reused 0 (from 0)\u001b[K\n",
            "Receiving objects: 100% (17/17), 491.96 KiB | 2.51 MiB/s, done.\n",
            "Resolving deltas: 100% (3/3), done.\n"
          ]
        }
      ]
    },
    {
      "cell_type": "code",
      "source": [
        "class Node:\n",
        "  def __init__(self, osmid, x, y, primary):\n",
        "    self.osmid = osmid\n",
        "    self.x = x\n",
        "    self.y = y\n",
        "    self.primary = primary\n",
        "\n",
        "  def __repr__(self):\n",
        "        return f\"Node(id={self.osmid}, x={self.x}, y={self.y}, primary={self.primary})\"\n",
        "\n",
        "class Edge:\n",
        "  def __init__(self, u, v, length, name):\n",
        "    self.u = u\n",
        "    self.v = v\n",
        "    self.length = length\n",
        "    self.name = name\n",
        "\n",
        "  def __repr__(self):\n",
        "        return f\"Edge(u={self.u}, v={self.v}, length={self.length}, name={self.name})\"\n",
        "\n",
        "class Graph:\n",
        "    def __init__(self):\n",
        "        self.adjacency_list = {}\n",
        "\n",
        "    def add_node(self, node):\n",
        "        if node.osmid not in self.adjacency_list:\n",
        "            self.adjacency_list[node.osmid] = []\n",
        "\n",
        "    def add_edge(self, edge):\n",
        "        u = edge.u\n",
        "        v = edge.v\n",
        "        weight = float(edge.length)\n",
        "        if u not in self.adjacency_list:\n",
        "            self.add_node(Node(osmid=u, x=0, y=0, primary=False))\n",
        "        if v not in self.adjacency_list:\n",
        "            self.add_node(Node(osmid=v, x=0, y=0, primary=False))\n",
        "        self.adjacency_list[u].append((v, weight))\n",
        "\n",
        "    def get_neighbors(self, node_id):\n",
        "        return self.adjacency_list.get(node_id, [])"
      ],
      "metadata": {
        "id": "XTF7FARsxHrt"
      },
      "execution_count": 22,
      "outputs": []
    },
    {
      "cell_type": "code",
      "execution_count": 23,
      "metadata": {
        "id": "ycL1dI4OWqfj"
      },
      "outputs": [],
      "source": [
        "# 2.3.1\n",
        "import csv\n",
        "\n",
        "def load_csv_into_list(filepath, cls):\n",
        "    with open(filepath, 'r') as file:\n",
        "        reader = csv.DictReader(file, delimiter = \"\\t\")\n",
        "        objects = []\n",
        "        for row in reader:\n",
        "            obj = cls(\n",
        "                **{k: v for k, v in row.items()}\n",
        "            )\n",
        "            objects.append(obj)\n",
        "        return objects\n",
        "\n",
        "nodes = load_csv_into_list('tol403-lokaverkefni/data/nodes.tsv', Node)\n",
        "edges = load_csv_into_list('tol403-lokaverkefni/data/edges.tsv', Edge)\n",
        "\n",
        "graph = Graph()\n",
        "\n",
        "for node in nodes:\n",
        "    graph.add_node(node)\n",
        "\n",
        "for edge in edges:\n",
        "    graph.add_edge(edge)"
      ]
    },
    {
      "cell_type": "code",
      "source": [
        "# 2.3.2\n",
        "## Steps\n",
        "\n",
        "### 1, Invert graph (edge 1->2 becoes 2->1)\n",
        "### 2, Run Dijkstra for each starting point (yes this is slow af)\n",
        "### 2.1, Initialise each point's distance to infinity, and its closest starting point to itself\n",
        "### 2.2, For each node, see if this new path is shorter than the previous known path\n",
        "###      If it is, then set this as the closest starting point\n",
        "\n",
        "import heapq\n",
        "\n",
        "def calculate_distances(graph, end_vertices):\n",
        "    # Invert the graph\n",
        "    inverted_graph = Graph()\n",
        "    for u in graph.adjacency_list:\n",
        "        for (v, weight) in graph.adjacency_list[u]:\n",
        "            inverted_graph.add_edge(Edge(v, u, weight, \"\"))\n",
        "\n",
        "    distances = {node: float('infinity') for node in inverted_graph.adjacency_list}\n",
        "    closest_start = {node: None for node in inverted_graph.adjacency_list}\n",
        "\n",
        "    heap = []\n",
        "\n",
        "    for vertex in end_vertices:\n",
        "        distances[vertex] = 0\n",
        "        closest_start[vertex] = vertex\n",
        "        heapq.heappush(heap, (0, vertex))\n",
        "\n",
        "    # Dijkstra\n",
        "    while heap:\n",
        "        current_distance, u = heapq.heappop(heap)\n",
        "\n",
        "        if current_distance > distances[u]:\n",
        "            continue\n",
        "\n",
        "        for (v, weight) in inverted_graph.adjacency_list.get(u, []):\n",
        "            new_distance = current_distance + weight\n",
        "            if distances[v] > new_distance:\n",
        "                distances[v] = new_distance\n",
        "                # Set closest end point\n",
        "                closest_start[v] = closest_start[u]\n",
        "                heapq.heappush(heap, (new_distance, v))\n",
        "\n",
        "    return distances, closest_start\n",
        "\n",
        "## Test stuff\n",
        "distances,closest_start = calculate_distances(graph, [nodes[50].osmid, nodes[11].osmid])\n",
        "\n",
        "end_nodes = sorted(distances.keys())\n",
        "\n",
        "### Print first 50\n",
        "for node in end_nodes[:50]:\n",
        "    print(f\"Node: {node}, Distance: {distances[node]}, Closest Start: {closest_start[node]}\")\n"
      ],
      "metadata": {
        "id": "kQ5UuoqKO6XN",
        "outputId": "8120c997-931a-40aa-a86b-9d17eab06756",
        "colab": {
          "base_uri": "https://localhost:8080/"
        }
      },
      "execution_count": 25,
      "outputs": [
        {
          "output_type": "stream",
          "name": "stdout",
          "text": [
            "First 50 nodes:\n",
            "Node: 10011799464, Distance: 5801.210097241898, Closest Start: 21579344\n",
            "Node: 10011799466, Distance: 5816.865813988412, Closest Start: 21579344\n",
            "Node: 10127016392, Distance: 4241.457467532392, Closest Start: 12886003\n",
            "Node: 10127016394, Distance: 4298.273268504695, Closest Start: 12886003\n",
            "Node: 1014129863, Distance: 7077.899178023705, Closest Start: 21579344\n",
            "Node: 1014379890, Distance: 7526.070072520135, Closest Start: 21579344\n",
            "Node: 1014396244, Distance: 8062.223034355005, Closest Start: 21579344\n",
            "Node: 1014505558, Distance: 7755.056468365305, Closest Start: 21579344\n",
            "Node: 1014524686, Distance: 8774.875024094554, Closest Start: 21579344\n",
            "Node: 1014524694, Distance: 8734.743346973346, Closest Start: 21579344\n",
            "Node: 1014753490, Distance: 766.7300333375509, Closest Start: 21579344\n",
            "Node: 1015291687, Distance: 1416.2538408286905, Closest Start: 21579344\n",
            "Node: 1015291695, Distance: 1319.0692952050067, Closest Start: 21579344\n",
            "Node: 1019413460, Distance: 3625.868613406731, Closest Start: 21579344\n",
            "Node: 1019413461, Distance: 3649.9604766878474, Closest Start: 21579344\n",
            "Node: 1019413462, Distance: 3614.77478563296, Closest Start: 21579344\n",
            "Node: 1019413463, Distance: 3662.5173255896248, Closest Start: 21579344\n",
            "Node: 1019413465, Distance: 3590.167357602189, Closest Start: 21579344\n",
            "Node: 1019413467, Distance: 3729.587950577951, Closest Start: 21579344\n",
            "Node: 1019413468, Distance: 3558.598965397521, Closest Start: 21579344\n",
            "Node: 1019413470, Distance: 3689.4483655208323, Closest Start: 21579344\n",
            "Node: 1021069222, Distance: 9990.318698217914, Closest Start: 21579344\n",
            "Node: 1021179739, Distance: 8142.583618470722, Closest Start: 21579344\n",
            "Node: 1021179761, Distance: 8379.054409526214, Closest Start: 21579344\n",
            "Node: 1021179780, Distance: 8591.198867939333, Closest Start: 21579344\n",
            "Node: 1021179793, Distance: 9062.324879840204, Closest Start: 21579344\n",
            "Node: 1021179809, Distance: 9284.136243647332, Closest Start: 21579344\n",
            "Node: 1021179832, Distance: 9188.493255453433, Closest Start: 21579344\n",
            "Node: 1021179855, Distance: 9006.774175678533, Closest Start: 21579344\n",
            "Node: 1021179860, Distance: 8203.461889143826, Closest Start: 21579344\n",
            "Node: 1021179862, Distance: 8862.4050562004, Closest Start: 21579344\n",
            "Node: 1021179920, Distance: 8192.184517908161, Closest Start: 21579344\n",
            "Node: 1021179941, Distance: 8842.483891310378, Closest Start: 21579344\n",
            "Node: 1021179965, Distance: 7991.6217421238825, Closest Start: 21579344\n",
            "Node: 1021179974, Distance: 9048.66306162084, Closest Start: 21579344\n",
            "Node: 1021258170, Distance: 7038.844418190592, Closest Start: 21579344\n",
            "Node: 1021258198, Distance: 7263.355766510282, Closest Start: 21579344\n",
            "Node: 1021359100, Distance: 7066.323659289925, Closest Start: 12886003\n",
            "Node: 1021359111, Distance: 6413.526273290894, Closest Start: 12886003\n",
            "Node: 1021359183, Distance: 7108.7967084047505, Closest Start: 12886003\n",
            "Node: 1021359193, Distance: 7125.138228968938, Closest Start: 12886003\n",
            "Node: 1021359204, Distance: 6945.040584235729, Closest Start: 12886003\n",
            "Node: 1021359208, Distance: 7045.782731823381, Closest Start: 12886003\n",
            "Node: 1021359221, Distance: 6970.887261488793, Closest Start: 12886003\n",
            "Node: 1021359222, Distance: 7313.775565061785, Closest Start: 12886003\n",
            "Node: 1021359225, Distance: 7083.288241589053, Closest Start: 12886003\n",
            "Node: 1021359231, Distance: 6839.388929422935, Closest Start: 12886003\n",
            "Node: 1021359232, Distance: 7163.48548825195, Closest Start: 12886003\n",
            "Node: 1021359243, Distance: 7132.681297471394, Closest Start: 12886003\n",
            "Node: 1022591478, Distance: 6647.693984506421, Closest Start: 21579344\n"
          ]
        }
      ]
    }
  ]
}
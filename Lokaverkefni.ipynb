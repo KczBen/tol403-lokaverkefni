{
  "nbformat": 4,
  "nbformat_minor": 0,
  "metadata": {
    "colab": {
      "provenance": [],
      "authorship_tag": "ABX9TyM/OwVLdyqu7PuOejL48XIl",
      "include_colab_link": true
    },
    "kernelspec": {
      "name": "python3",
      "display_name": "Python 3"
    },
    "language_info": {
      "name": "python"
    }
  },
  "cells": [
    {
      "cell_type": "markdown",
      "metadata": {
        "id": "view-in-github",
        "colab_type": "text"
      },
      "source": [
        "<a href=\"https://colab.research.google.com/github/KczBen/tol403-lokaverkefni/blob/main/Lokaverkefni.ipynb\" target=\"_parent\"><img src=\"https://colab.research.google.com/assets/colab-badge.svg\" alt=\"Open In Colab\"/></a>"
      ]
    },
    {
      "cell_type": "code",
      "source": [
        "# Clone repo data into environment\n",
        "!git clone https://github.com/KczBen/tol403-lokaverkefni.git"
      ],
      "metadata": {
        "collapsed": true,
        "id": "CRNCAoXgqBky",
        "outputId": "aac2e350-b880-406d-be47-488a169e95fb",
        "colab": {
          "base_uri": "https://localhost:8080/"
        }
      },
      "execution_count": 3,
      "outputs": [
        {
          "output_type": "stream",
          "name": "stdout",
          "text": [
            "Cloning into 'tol403-lokaverkefni'...\n",
            "remote: Enumerating objects: 17, done.\u001b[K\n",
            "remote: Counting objects: 100% (17/17), done.\u001b[K\n",
            "remote: Compressing objects: 100% (16/16), done.\u001b[K\n",
            "remote: Total 17 (delta 3), reused 5 (delta 0), pack-reused 0 (from 0)\u001b[K\n",
            "Receiving objects: 100% (17/17), 491.96 KiB | 2.51 MiB/s, done.\n",
            "Resolving deltas: 100% (3/3), done.\n"
          ]
        }
      ]
    },
    {
      "cell_type": "code",
      "source": [
        "class Node:\n",
        "  def __init__(self, osmid, x, y, primary):\n",
        "    self.osmid = int(osmid)\n",
        "    self.x = float(x)\n",
        "    self.y = float(y)\n",
        "    self.primary = bool(primary)\n",
        "\n",
        "  def __repr__(self):\n",
        "        return f\"Node(id={self.osmid}, x={self.x}, y={self.y}, primary={self.primary})\"\n",
        "\n",
        "class Edge:\n",
        "  def __init__(self, u, v, length, name):\n",
        "    self.u = int(u)\n",
        "    self.v = int(v)\n",
        "    self.length = float(length)\n",
        "    self.name = name\n",
        "\n",
        "  def __repr__(self):\n",
        "        return f\"Edge(u={self.u}, v={self.v}, length={self.length}, name={self.name})\"\n",
        "\n",
        "class Graph:\n",
        "    def __init__(self):\n",
        "        self.adjacency_list = {}\n",
        "\n",
        "    def add_node(self, node):\n",
        "        if node.osmid not in self.adjacency_list:\n",
        "            self.adjacency_list[node.osmid] = []\n",
        "\n",
        "    def add_edge(self, edge):\n",
        "        u = edge.u\n",
        "        v = edge.v\n",
        "        weight = edge.length\n",
        "        if u not in self.adjacency_list:\n",
        "            self.add_node(Node(osmid=u, x=0, y=0, primary=False))\n",
        "        if v not in self.adjacency_list:\n",
        "            self.add_node(Node(osmid=v, x=0, y=0, primary=False))\n",
        "        self.adjacency_list[u].append((v, weight))\n",
        "\n",
        "    def get_neighbors(self, node_id):\n",
        "        return self.adjacency_list.get(node_id, [])"
      ],
      "metadata": {
        "id": "XTF7FARsxHrt"
      },
      "execution_count": 26,
      "outputs": []
    },
    {
      "cell_type": "code",
      "execution_count": 27,
      "metadata": {
        "id": "ycL1dI4OWqfj"
      },
      "outputs": [],
      "source": [
        "# 2.3.1\n",
        "import csv\n",
        "\n",
        "def load_csv_into_list(filepath, cls):\n",
        "    with open(filepath, 'r') as file:\n",
        "        reader = csv.DictReader(file, delimiter = \"\\t\")\n",
        "        objects = []\n",
        "        for row in reader:\n",
        "            obj = cls(\n",
        "                **{k: v for k, v in row.items()}\n",
        "            )\n",
        "            objects.append(obj)\n",
        "        return objects\n",
        "\n",
        "nodes = load_csv_into_list('tol403-lokaverkefni/data/nodes.tsv', Node)\n",
        "edges = load_csv_into_list('tol403-lokaverkefni/data/edges.tsv', Edge)\n",
        "\n",
        "graph = Graph()\n",
        "\n",
        "for node in nodes:\n",
        "    graph.add_node(node)\n",
        "\n",
        "for edge in edges:\n",
        "    graph.add_edge(edge)"
      ]
    },
    {
      "cell_type": "code",
      "source": [
        "# 2.3.2\n",
        "## Steps\n",
        "\n",
        "### 1, Invert graph (edge 1->2 becoes 2->1)\n",
        "### 2, Run Dijkstra for each starting point (yes this is slow af)\n",
        "### 2.1, Initialise each point's distance to infinity, and its closest starting point to itself\n",
        "### 2.2, For each node, see if this new path is shorter than the previous known path\n",
        "###      If it is, then set this as the closest starting point\n",
        "\n",
        "import heapq\n",
        "\n",
        "def calculate_distances(graph, end_vertices):\n",
        "    # Invert the graph\n",
        "    inverted_graph = Graph()\n",
        "    for u in graph.adjacency_list:\n",
        "        for (v, weight) in graph.adjacency_list[u]:\n",
        "            inverted_graph.add_edge(Edge(v, u, weight, \"\"))\n",
        "\n",
        "    distances = {node: float('infinity') for node in inverted_graph.adjacency_list}\n",
        "    closest_start = {node: None for node in inverted_graph.adjacency_list}\n",
        "\n",
        "    heap = []\n",
        "\n",
        "    for vertex in end_vertices:\n",
        "        distances[vertex] = 0\n",
        "        closest_start[vertex] = vertex\n",
        "        heapq.heappush(heap, (0, vertex))\n",
        "\n",
        "    # Dijkstra\n",
        "    while heap:\n",
        "        current_distance, u = heapq.heappop(heap)\n",
        "\n",
        "        if current_distance > distances[u]:\n",
        "            continue\n",
        "\n",
        "        for (v, weight) in inverted_graph.adjacency_list.get(u, []):\n",
        "            new_distance = current_distance + weight\n",
        "            if distances[v] > new_distance:\n",
        "                distances[v] = new_distance\n",
        "                # Set closest end point\n",
        "                closest_start[v] = closest_start[u]\n",
        "                heapq.heappush(heap, (new_distance, v))\n",
        "\n",
        "    return distances, closest_start\n",
        "\n",
        "## Test stuff\n",
        "distances,closest_start = calculate_distances(graph, [nodes[50].osmid, nodes[11].osmid])\n",
        "\n",
        "end_nodes = sorted(distances.keys())\n",
        "\n",
        "### Print first 50\n",
        "for node in end_nodes[:50]:\n",
        "    print(f\"Node: {node}, Distance: {distances[node]}, Closest Start: {closest_start[node]}\")\n"
      ],
      "metadata": {
        "colab": {
          "base_uri": "https://localhost:8080/"
        },
        "id": "kQ5UuoqKO6XN",
        "outputId": "c53d4757-4978-4a1f-9de4-dd19add0db07"
      },
      "execution_count": 28,
      "outputs": [
        {
          "output_type": "stream",
          "name": "stdout",
          "text": [
            "Node: 12885866, Distance: 27.729455385158538, Closest Start: 12886003\n",
            "Node: 12885876, Distance: 1071.7628682338736, Closest Start: 12886003\n",
            "Node: 12885922, Distance: 8778.166253656374, Closest Start: 12886003\n",
            "Node: 12885923, Distance: 8.73743989282635, Closest Start: 12886003\n",
            "Node: 12885924, Distance: 119.12594487251242, Closest Start: 12886003\n",
            "Node: 12885930, Distance: 984.3324217994717, Closest Start: 12886003\n",
            "Node: 12885937, Distance: 6015.709756684763, Closest Start: 12886003\n",
            "Node: 12885952, Distance: 1055.6315964510645, Closest Start: 12886003\n",
            "Node: 12885974, Distance: 104.45716130620653, Closest Start: 12886003\n",
            "Node: 12885979, Distance: 1027.288130529451, Closest Start: 12886003\n",
            "Node: 12885991, Distance: 1004.645467783603, Closest Start: 12886003\n",
            "Node: 12886003, Distance: 0, Closest Start: 12886003\n",
            "Node: 12886006, Distance: 41.91013883585239, Closest Start: 12886003\n",
            "Node: 12886026, Distance: 74.87399349884423, Closest Start: 12886003\n",
            "Node: 12886027, Distance: 1096.603437099763, Closest Start: 12886003\n",
            "Node: 13472322, Distance: 9965.286513897778, Closest Start: 21579344\n",
            "Node: 13472516, Distance: 8083.371394809555, Closest Start: 21579344\n",
            "Node: 13472723, Distance: 16096.168215212643, Closest Start: 21579344\n",
            "Node: 13472744, Distance: 9267.514219472676, Closest Start: 21579344\n",
            "Node: 13489663, Distance: 6695.467727226296, Closest Start: 21579344\n",
            "Node: 13490026, Distance: 5852.811020121624, Closest Start: 21579344\n",
            "Node: 13800292, Distance: 23058.54863450917, Closest Start: 21579344\n",
            "Node: 14581636, Distance: 2347.472284346975, Closest Start: 12886003\n",
            "Node: 14581771, Distance: 2383.5853167807973, Closest Start: 12886003\n",
            "Node: 14581824, Distance: 2293.551496172768, Closest Start: 12886003\n",
            "Node: 14581900, Distance: 2317.6978245190826, Closest Start: 12886003\n",
            "Node: 14581950, Distance: 2323.551089626879, Closest Start: 12886003\n",
            "Node: 14581956, Distance: 1674.9879808785877, Closest Start: 12886003\n",
            "Node: 14581975, Distance: 2357.1292066616043, Closest Start: 12886003\n",
            "Node: 14581979, Distance: 2298.692907910793, Closest Start: 12886003\n",
            "Node: 14586467, Distance: 14054.002080773223, Closest Start: 21579344\n",
            "Node: 14586500, Distance: 5808.85760637781, Closest Start: 21579344\n",
            "Node: 14586684, Distance: 4272.121332165542, Closest Start: 21579344\n",
            "Node: 14586813, Distance: 2688.098215116793, Closest Start: 21579344\n",
            "Node: 14586932, Distance: 2749.408014231876, Closest Start: 12886003\n",
            "Node: 14586972, Distance: 10218.319364424424, Closest Start: 21579344\n",
            "Node: 14586999, Distance: 2735.0935818420835, Closest Start: 12886003\n",
            "Node: 14587063, Distance: 5445.119373919188, Closest Start: 21579344\n",
            "Node: 14587161, Distance: 2721.660898794845, Closest Start: 12886003\n",
            "Node: 14705468, Distance: 2770.28820687043, Closest Start: 12886003\n",
            "Node: 14772868, Distance: 14782.432945011158, Closest Start: 21579344\n",
            "Node: 14772869, Distance: 14764.757167651045, Closest Start: 21579344\n",
            "Node: 14772872, Distance: 14914.09687595554, Closest Start: 21579344\n",
            "Node: 14772879, Distance: 14738.81708426254, Closest Start: 21579344\n",
            "Node: 16570604, Distance: 10209.012955219958, Closest Start: 21579344\n",
            "Node: 16570606, Distance: 10533.529747419821, Closest Start: 21579344\n",
            "Node: 21579318, Distance: 989.2922618404209, Closest Start: 21579344\n",
            "Node: 21579325, Distance: 790.1440643806776, Closest Start: 21579344\n",
            "Node: 21579328, Distance: 211.11210152985865, Closest Start: 21579344\n",
            "Node: 21579341, Distance: 2080.4608755210816, Closest Start: 21579344\n"
          ]
        }
      ]
    }
  ]
}
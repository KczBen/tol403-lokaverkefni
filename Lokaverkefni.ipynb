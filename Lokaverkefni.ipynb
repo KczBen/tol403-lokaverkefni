{
  "cells": [
    {
      "cell_type": "markdown",
      "metadata": {
        "colab_type": "text",
        "id": "view-in-github"
      },
      "source": [
        "<a href=\"https://colab.research.google.com/github/KczBen/tol403-lokaverkefni/blob/main/Lokaverkefni.ipynb\" target=\"_parent\"><img src=\"https://colab.research.google.com/assets/colab-badge.svg\" alt=\"Open In Colab\"/></a>"
      ]
    },
    {
      "cell_type": "code",
      "execution_count": null,
      "metadata": {
        "colab": {
          "base_uri": "https://localhost:8080/"
        },
        "collapsed": true,
        "id": "CRNCAoXgqBky",
        "outputId": "5aebdec0-c4dc-4794-c91f-6876a5f0ab93"
      },
      "outputs": [],
      "source": [
        "# Clone repo data into environment\n",
        "!git clone https://github.com/KczBen/tol403-lokaverkefni.git\n",
        "\n",
        "# All code was last ran on an AMD Ryzen 7 5800X CPU. Printed time values are not representative of wherever you are currently viewing this."
      ]
    },
    {
      "cell_type": "code",
      "execution_count": 76,
      "metadata": {
        "id": "XTF7FARsxHrt"
      },
      "outputs": [],
      "source": [
        "import pandas as pd\n",
        "import folium\n",
        "from folium import Map, Marker, PolyLine, features, RegularPolygonMarker, DivIcon\n",
        "from folium.plugins import PolyLineTextPath\n",
        "import math\n",
        "import networkx as nx\n",
        "import time\n",
        "import multiprocessing\n",
        "import concurrent"
      ]
    },
    {
      "cell_type": "code",
      "execution_count": null,
      "metadata": {
        "id": "ycL1dI4OWqfj"
      },
      "outputs": [],
      "source": [
        "# 2.3.1\n",
        "\n",
        "nodes = pd.read_csv('tol403-lokaverkefni/data/nodes.tsv', sep = \"\\t\")\n",
        "edges = pd.read_csv('tol403-lokaverkefni/data/edges.tsv', sep = \"\\t\")\n",
        "\n",
        "charging_station_nodes = {323346405, 87120378, 2374444198, 1345740157, 2351742223}\n",
        "\n",
        "coords = {\n",
        "    row['osmid']: (row['y'], row['x'])  # Folium notar (lat, lon)\n",
        "    for _, row in nodes.iterrows()\n",
        "}\n",
        "\n",
        "# búum til graf með stefnu og þyngd fyrir edges\n",
        "G = nx.DiGraph()\n",
        "for _, row in edges.iterrows():\n",
        "    G.add_edge(row['u'], row['v'], weight=row['length'])\n",
        "\n",
        "## Need to reverse in some cases because it's directed\n",
        "G_rev = G.reverse()"
      ]
    },
    {
      "cell_type": "code",
      "execution_count": 29,
      "metadata": {
        "id": "kQ5UuoqKO6XN"
      },
      "outputs": [],
      "source": [
        "# 2.3.2\n",
        "\n",
        "def shortest_distance_to_charger(node_id, graph, charger_nodes):\n",
        "    min_distance = float('inf')\n",
        "    closest_station = None\n",
        "    for charger_id in charger_nodes:\n",
        "        try:\n",
        "            dist = nx.dijkstra_path_length(graph, source=node_id, target=charger_id, weight='weight')\n",
        "            if dist < min_distance:\n",
        "                min_distance = dist\n",
        "                closest_station = charger_id\n",
        "        except (nx.NetworkXNoPath, nx.NodeNotFound):\n",
        "            continue\n",
        "    return min_distance, closest_station"
      ]
    },
    {
      "cell_type": "code",
      "execution_count": 50,
      "metadata": {
        "colab": {
          "base_uri": "https://localhost:8080/"
        },
        "id": "SfNz_MbCcT1U",
        "outputId": "2b5c1130-0b22-488f-bbb7-bbf7926fe1a1"
      },
      "outputs": [
        {
          "name": "stdout",
          "output_type": "stream",
          "text": [
            "Keyrsla tók 25s\n",
            "Kort geymt i skra: kort_2_3_3.html\n"
          ]
        }
      ],
      "source": [
        "# 2.3.3\n",
        "\n",
        "def process_node_wrapper(args):\n",
        "    row, charger_nodes, graph, charger_only = args\n",
        "    node_id = row['osmid']\n",
        "    \n",
        "    color_palette = [\n",
        "        \"orange\",\n",
        "        \"green\",\n",
        "        \"purple\",\n",
        "        \"cadetblue\",\n",
        "        \"darkred\",\n",
        "        \"darkgreen\",\n",
        "        \"darkblue\",\n",
        "        \"pink\",\n",
        "        \"black\",\n",
        "        \"gold\"\n",
        "    ]\n",
        "    \n",
        "    if node_id in charger_nodes:\n",
        "        charger_index = list(charger_nodes).index(node_id) % len(color_palette)\n",
        "        color = color_palette[charger_index]\n",
        "        popup_text = f\"🔌 Hleðslustöð <br>Node ID: {node_id}\"\n",
        "        return {\n",
        "            'location': [row['y'], row['x']],\n",
        "            'color': color,\n",
        "            'popup_text': popup_text,\n",
        "            'is_charger': True\n",
        "        }\n",
        "    \n",
        "    elif not charger_only:\n",
        "        distance, closest = shortest_distance_to_charger(node_id, graph, charger_nodes)\n",
        "        \n",
        "        if closest is None:\n",
        "            color = \"gray\"  # fallback color if no reachable charger\n",
        "            popup_text = (f\"🚗 Node ID: {node_id}<br>Primary: {row['primary']}<br>\"\n",
        "                          f\"⚠️ Engin hleðslustöð fannst í nágrenninu.\")\n",
        "        else:\n",
        "            charger_index = list(charger_nodes).index(closest) % len(color_palette)\n",
        "            color = color_palette[charger_index]\n",
        "            popup_text = (f\"🚗 Node ID: {node_id}<br>Primary: {row['primary']}<br>\"\n",
        "                          f\"Fjarlægð frá næstu hleðslustöð: {distance:.2f} meters<br>\"\n",
        "                          f\"Næsta hleðslustöð: {closest}\")\n",
        "        \n",
        "        return {\n",
        "            'location': [row['y'], row['x']],\n",
        "            'color': color,\n",
        "            'popup_text': popup_text,\n",
        "            'is_charger': False\n",
        "        }\n",
        "\n",
        "# keyrsla gæti tekið sirka 5-10 mín\n",
        "def create_map(charger_nodes, map_name, chargers_only = False):\n",
        "    center_lat = nodes['y'].mean()\n",
        "    center_lon = nodes['x'].mean()\n",
        "    m = folium.Map(location=[center_lat, center_lon], zoom_start=12)\n",
        "\n",
        "    start_time = time.time()\n",
        "\n",
        "    row_args = [\n",
        "        (row, charger_nodes, G, chargers_only)\n",
        "        for _, row in nodes.iterrows()\n",
        "    ]\n",
        "\n",
        "    # ryzen 7 go brrrr\n",
        "    with multiprocessing.Pool() as pool:\n",
        "        marker_data_list = pool.map(process_node_wrapper, row_args)\n",
        "\n",
        "    chargers = []\n",
        "    others = []\n",
        "\n",
        "    for md in marker_data_list:\n",
        "        if md is None:\n",
        "            continue\n",
        "        if md['is_charger']:\n",
        "            chargers.append(md)\n",
        "        else:\n",
        "            others.append(md)\n",
        "\n",
        "    # First draw regular nodes\n",
        "    for md in others:\n",
        "        folium.CircleMarker(\n",
        "            location=md['location'],\n",
        "            radius=2,\n",
        "            color=md['color'],\n",
        "            fill=True,\n",
        "            fill_color=md['color'],\n",
        "            fill_opacity=0.8,\n",
        "            popup=folium.Popup(md['popup_text'], max_width=250)\n",
        "        ).add_to(m)\n",
        "\n",
        "    # Then draw charging stations (bigger + on top)\n",
        "    for md in chargers:\n",
        "        folium.CircleMarker(\n",
        "            location=md['location'],\n",
        "            radius=8,\n",
        "            color=\"black\",\n",
        "            weight=2,\n",
        "            fill=True,\n",
        "            fill_color=md['color'],\n",
        "            fill_opacity=1.0,\n",
        "            popup=folium.Popup(md['popup_text'], max_width=250)\n",
        "        ).add_to(m)\n",
        "\n",
        "    print(f\"Keyrsla tók {int(time.time() - start_time)}s\")\n",
        "\n",
        "    for _, row in edges.iterrows():\n",
        "        if row['u'] in coords and row['v'] in coords:\n",
        "            start = coords[row['u']]\n",
        "            end = coords[row['v']]\n",
        "            PolyLine(\n",
        "                locations=[start, end],\n",
        "                color='gray',\n",
        "                weight=1,\n",
        "                opacity=0.5,\n",
        "                popup=row.get('name', '')\n",
        "            ).add_to(m)\n",
        "\n",
        "    m.save(map_name)\n",
        "    print(f\"Kort geymt i skra: {map_name}\")\n",
        "\n",
        "create_map(charging_station_nodes, \"kort_2_3_3.html\")"
      ]
    },
    {
      "cell_type": "code",
      "execution_count": 31,
      "metadata": {
        "id": "8_jX2v9ReTeB"
      },
      "outputs": [],
      "source": [
        "# 2.3.4\n",
        "\n",
        "## it's in the code above"
      ]
    },
    {
      "cell_type": "code",
      "execution_count": 32,
      "metadata": {
        "id": "NPSUIwKNj7a-"
      },
      "outputs": [
        {
          "name": "stdout",
          "output_type": "stream",
          "text": [
            "Keyrsla tók 19s\n"
          ]
        },
        {
          "data": {
            "text/plain": [
              "52496231.653249905"
            ]
          },
          "execution_count": 32,
          "metadata": {},
          "output_type": "execute_result"
        }
      ],
      "source": [
        "# 2.3.5\n",
        "\n",
        "## Heuristic for A*\n",
        "## Needlessly complicated on such a small scale\n",
        "## Calculate the distance between two points on the surface of a sphere\n",
        "## It's somewhat off up here since the Earth isn't a perfect sphere\n",
        "def calc_spherical_distance(node_id, target_id):\n",
        "    lat_source,lon_source = coords[node_id]\n",
        "    lat_target,lon_target = coords[target_id]\n",
        "\n",
        "    radius = 6373.0\n",
        "\n",
        "    delta_lat = math.radians(lat_target) - math.radians(lat_source)\n",
        "    delta_lon = math.radians(lon_target) - math.radians(lon_source)\n",
        "\n",
        "    a = math.sin(delta_lat / 2)**2 + math.cos(lat_source) * math.cos(lat_target) * math.sin(delta_lon / 2)**2\n",
        "    c = 2 * math.atan2(math.sqrt(a), math.sqrt(1 - a))\n",
        "\n",
        "    distance = radius * c * 1000 #metres\n",
        "\n",
        "    return distance\n",
        "\n",
        "def astar_distance_to_charger(node_id, graph, charger_nodes):\n",
        "    min_distance = float('inf')\n",
        "    closest_station = None\n",
        "    for charger_id in charger_nodes:\n",
        "        try:\n",
        "            dist = nx.astar_path_length(graph, source=node_id, target=charger_id, heuristic=calc_spherical_distance, weight='weight')\n",
        "            if dist < min_distance:\n",
        "                min_distance = dist\n",
        "                closest_station = charger_id\n",
        "        except (nx.NetworkXNoPath, nx.NodeNotFound):\n",
        "            continue\n",
        "    return min_distance, closest_station\n",
        "\n",
        "def process_astar_row(args):\n",
        "    row, charging_station_nodes, graph = args\n",
        "    node_id = row['osmid']\n",
        "\n",
        "    distance, closest = astar_distance_to_charger(node_id, graph, charging_station_nodes)\n",
        "    return distance if distance != float(\"inf\") else 0.0\n",
        "\n",
        "def run_astar(charging_station_nodes, benchmark):\n",
        "    distance_sum = 0.0\n",
        "    if benchmark:\n",
        "        start_time = time.time()\n",
        "\n",
        "    row_args = [(row, charging_station_nodes, G) for _, row in nodes.iterrows()]\n",
        "    \n",
        "    with multiprocessing.Pool() as pool:\n",
        "        distances = pool.map(process_astar_row, row_args)\n",
        "\n",
        "        distance_sum = sum(distances)\n",
        "\n",
        "    if benchmark:\n",
        "        print(f\"Keyrsla tók {int(time.time() - start_time)}s\")\n",
        "\n",
        "    return distance_sum\n",
        "\n",
        "run_astar(charging_station_nodes, True)"
      ]
    },
    {
      "cell_type": "code",
      "execution_count": 66,
      "metadata": {
        "id": "VIqY8tgWLIsF"
      },
      "outputs": [
        {
          "name": "stdout",
          "output_type": "stream",
          "text": [
            "Best node for k = 1 was osmid       34827739\n",
            "x         -21.845736\n",
            "y          64.114075\n",
            "primary         True\n",
            "Name: 589, dtype: object with a distance of 71813532.58901912\n"
          ]
        }
      ],
      "source": [
        "# 2.3.6\n",
        "\n",
        "def simple_dijkstra(charger_id):\n",
        "    distances = nx.single_source_dijkstra_path_length(G_rev, charger_id, weight='weight')\n",
        "    distance_sum = sum(distances.values())\n",
        "\n",
        "    return distance_sum\n",
        "\n",
        "def multi_dijkstra(candidate_charger_id: int, placed_charger_ids: set):\n",
        "    chargers = placed_charger_ids.copy()\n",
        "    if candidate_charger_id is not None:\n",
        "        chargers.add(candidate_charger_id)\n",
        "\n",
        "    distances = nx.multi_source_dijkstra_path_length(G_rev, chargers, weight=\"weight\")\n",
        "    distance_sum = sum(distances.values())\n",
        "\n",
        "    return distance_sum\n",
        "\n",
        "def compute_distance(node, used_nodes):\n",
        "    distance = multi_dijkstra(node.osmid, used_nodes)\n",
        "    return node, distance\n",
        "\n",
        "def place_optimal_charger(candidates, used_nodes):\n",
        "    best_distance = float(\"inf\")\n",
        "    best_node = None\n",
        "\n",
        "    with multiprocessing.Pool() as pool:\n",
        "        results = pool.starmap(compute_distance, [(node, used_nodes) for node in candidates])\n",
        "\n",
        "    for node, distance in results:\n",
        "        if 0 < distance < best_distance:\n",
        "            best_distance = distance\n",
        "            best_node = node\n",
        "\n",
        "    return best_node, best_distance\n",
        "\n",
        "primary_nodes = []\n",
        "for _, row in nodes.iterrows():\n",
        "    if row['primary'] == True:\n",
        "        primary_nodes.append(row)\n",
        "\n",
        "optimal_node, distance = place_optimal_charger(primary_nodes[:], set())\n",
        "print(f\"Best node for k = 1 was {optimal_node} with a distance of {distance}\")"
      ]
    },
    {
      "cell_type": "code",
      "execution_count": 51,
      "metadata": {
        "colab": {
          "base_uri": "https://localhost:8080/"
        },
        "id": "XISWWLnQ1fbE",
        "outputId": "ca9b404c-a647-4565-b673-97335dad9200"
      },
      "outputs": [
        {
          "name": "stdout",
          "output_type": "stream",
          "text": [
            "Keyrsla tók 28s\n",
            "Cumulative distance was 24909868.79067309\n",
            "Keyrsla tók 80s\n",
            "Kort geymt i skra: kort_2_3_7.html\n"
          ]
        }
      ],
      "source": [
        "# 2.3.7\n",
        "\n",
        "## Always add the new best node. Obviously have to remove the previously best node\n",
        "def greedy_k_chargers(candidates, max_iterations, used_nodes):\n",
        "    best_nodes = []\n",
        "    total_distance = 0.0\n",
        "\n",
        "    # If we already used some nodes, don't include them here\n",
        "    for n in used_nodes:\n",
        "        candidates[:] = [node for node in candidates if not node.equals(n)]\n",
        "\n",
        "    start_time = time.time()\n",
        "    for k in range(max_iterations):\n",
        "        best_node, dist = place_optimal_charger(candidates, used_nodes)\n",
        "        total_distance = dist\n",
        "        best_nodes.append(best_node)\n",
        "        used_nodes.add(best_node.osmid)\n",
        "        # Python is awful btw\n",
        "        candidates[:] = [node for node in candidates if not node.equals(best_node)]\n",
        "\n",
        "    print(f\"Keyrsla tók {int(time.time() - start_time)}s\")\n",
        "    return best_nodes, total_distance\n",
        "\n",
        "greedy_nodes, greedy_dist = greedy_k_chargers(primary_nodes[:], 10, set())\n",
        "print(f\"Cumulative distance was {greedy_dist}\")\n",
        "create_map([node.osmid for node in greedy_nodes], \"kort_2_3_7.html\")"
      ]
    },
    {
      "cell_type": "code",
      "execution_count": null,
      "metadata": {
        "colab": {
          "base_uri": "https://localhost:8080/"
        },
        "id": "MAZUUWjaUduT",
        "outputId": "a4d675d0-36a6-41a4-d15a-6b81bd5925db"
      },
      "outputs": [
        {
          "name": "stdout",
          "output_type": "stream",
          "text": [
            "Starting from random node 253472525\n",
            "Cumulative distance was 24089418.20030137\n"
          ]
        }
      ],
      "source": [
        "# 2.3.8\n",
        "\n",
        "## Pick random starting node\n",
        "### Run greedy K for 5 nodes\n",
        "#### Pick best node, then choose the furthest of the remaining 4 as the second best\n",
        "##### Recurse\n",
        "###### Pick solution with smallest distance at the end\n",
        "\n",
        "def better_greedy_k(max_depth):\n",
        "    # Choose a random starting node\n",
        "    starting_node = int(nodes.sample(n=1).iloc[0]['osmid'])\n",
        "    print(f\"Starting from random node {starting_node}\")\n",
        "    with concurrent.futures.ProcessPoolExecutor(max_workers=16) as executor:\n",
        "        chain, total_distance = recursive_search({starting_node}, max_depth, executor, 4)\n",
        "    return chain, total_distance\n",
        "\n",
        "def recursive_search(used_nodes: set, depth: int, executor=None, parallel_depth=0):\n",
        "    if depth == 0:\n",
        "        return used_nodes, multi_dijkstra(None, used_nodes)\n",
        "\n",
        "    best_candidate, second_candidate = pick_2(used_nodes)\n",
        "\n",
        "    best_used_nodes = used_nodes.copy()\n",
        "    best_used_nodes.add(best_candidate.osmid)\n",
        "\n",
        "    second_best_used_nodes = used_nodes.copy()\n",
        "    second_best_used_nodes.add(second_candidate.osmid)\n",
        "\n",
        "    if executor is not None and parallel_depth > 0:\n",
        "        future1 = executor.submit(recursive_search, best_used_nodes, depth - 1, None, 0)\n",
        "        future2 = executor.submit(recursive_search, second_best_used_nodes, depth - 1, None, 0)\n",
        "\n",
        "        result1 = future1.result()\n",
        "        result2 = future2.result()\n",
        "    else:\n",
        "        result1 = recursive_search(best_used_nodes, depth - 1, executor, parallel_depth - 1)\n",
        "        result2 = recursive_search(second_best_used_nodes, depth - 1, executor, parallel_depth - 1)\n",
        "\n",
        "    return result1 if result1[1] < result2[1] else result2\n",
        "    \n",
        "def pick_2(used_nodes):\n",
        "    # Pick top 5 nodes\n",
        "    chargers = top_5_candidates(primary_nodes[:], used_nodes)\n",
        "    # First charger\n",
        "    best_charger = chargers.pop(0)\n",
        "    second_best = None\n",
        "\n",
        "    max_distance = 0.0\n",
        "\n",
        "    # Pick charger futhest from the best\n",
        "    for k in chargers:\n",
        "        dist = calc_spherical_distance(k.osmid, best_charger.osmid)\n",
        "        if dist > max_distance:\n",
        "            max_distance = dist\n",
        "            second_best = k\n",
        "\n",
        "    return best_charger, second_best\n",
        "\n",
        "def top_5_candidates(candidates, used_nodes):\n",
        "    best_nodes = []\n",
        "    # If we already used some nodes, don't include them here\n",
        "    for n in used_nodes:\n",
        "        candidates[:] = [node for node in candidates if not node.equals(n)]\n",
        "\n",
        "    with multiprocessing.Pool() as pool:\n",
        "        results = pool.starmap(compute_distance_loc, [(node, used_nodes) for node in candidates])\n",
        "\n",
        "    results.sort(key=lambda x: x[1])\n",
        "    top_five = results[:5]\n",
        "\n",
        "    best_nodes.extend([node for node, _ in top_five])\n",
        "\n",
        "    return best_nodes\n",
        "\n",
        "def compute_distance_loc(node, used_nodes):\n",
        "    distance = multi_dijkstra(node.osmid, used_nodes)\n",
        "    return node, distance\n",
        "\n",
        "def get_best_results():\n",
        "    best_distance = float(\"inf\")\n",
        "    best_nodes = []\n",
        "\n",
        "    start_time = time.time()\n",
        "\n",
        "    for _ in range(5):\n",
        "        # 10th node is picked randomly at the start\n",
        "        better_greedy_nodes, better_greedy_dist = better_greedy_k(9)\n",
        "        if better_greedy_dist < best_distance:\n",
        "            print(f\"New best result of {better_greedy_dist}\")\n",
        "            best_distance = better_greedy_dist\n",
        "            best_nodes = better_greedy_nodes\n",
        "\n",
        "    end_time = time.time() - start_time\n",
        "    print(f\"Keyrsla tók {int(end_time)}s, avg {int(end_time / 5)}\")\n",
        "\n",
        "    return best_nodes, best_distance\n",
        "\n",
        "best_greedy_nodes, best_greedy_dist = get_best_results()\n",
        "print(f\"Cumulative distance was {best_greedy_dist}\")"
      ]
    },
    {
      "cell_type": "code",
      "execution_count": 81,
      "metadata": {},
      "outputs": [
        {
          "name": "stdout",
          "output_type": "stream",
          "text": [
            "Greedy algorithm picked 34827739, 4159611763, 470316424, 1204996745, 470320635, 253702373, 2948755314, 62975525, 252165232, 251765347, with a cumulative distance of 24909868.79067309\n",
            "Improved algorithm picked {661505312, 1208295841, 6382150947, 269072778, 14581771, 253472525, 14772879, 257168753, 2948755314, 2320771871}, with a cumulative distance of 24089418.20030137\n",
            "Keyrsla tók 95s\n",
            "Kort geymt i skra: kort_2_3_8.html\n"
          ]
        }
      ],
      "source": [
        "print(f\"Greedy algorithm picked {', '.join(str(node.osmid) for node in greedy_nodes)}, with a cumulative distance of {greedy_dist}\")\n",
        "print(f\"Improved algorithm picked {best_greedy_nodes}, with a cumulative distance of {best_greedy_dist}\")\n",
        "create_map(best_greedy_nodes, \"kort_2_3_8.html\", False)"
      ]
    }
  ],
  "metadata": {
    "colab": {
      "include_colab_link": true,
      "provenance": []
    },
    "kernelspec": {
      "display_name": ".venv",
      "language": "python",
      "name": "python3"
    },
    "language_info": {
      "codemirror_mode": {
        "name": "ipython",
        "version": 3
      },
      "file_extension": ".py",
      "mimetype": "text/x-python",
      "name": "python",
      "nbconvert_exporter": "python",
      "pygments_lexer": "ipython3",
      "version": "3.13.3"
    }
  },
  "nbformat": 4,
  "nbformat_minor": 0
}

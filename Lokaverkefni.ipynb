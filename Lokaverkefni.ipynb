{
  "nbformat": 4,
  "nbformat_minor": 0,
  "metadata": {
    "colab": {
      "provenance": [],
      "authorship_tag": "ABX9TyNxRrtNYZzji0MLv8pyxOF6",
      "include_colab_link": true
    },
    "kernelspec": {
      "name": "python3",
      "display_name": "Python 3"
    },
    "language_info": {
      "name": "python"
    }
  },
  "cells": [
    {
      "cell_type": "markdown",
      "metadata": {
        "id": "view-in-github",
        "colab_type": "text"
      },
      "source": [
        "<a href=\"https://colab.research.google.com/github/KczBen/tol403-lokaverkefni/blob/main/Lokaverkefni.ipynb\" target=\"_parent\"><img src=\"https://colab.research.google.com/assets/colab-badge.svg\" alt=\"Open In Colab\"/></a>"
      ]
    },
    {
      "cell_type": "code",
      "source": [
        "# Clone repo data into environment\n",
        "!git clone https://github.com/KczBen/tol403-lokaverkefni.git"
      ],
      "metadata": {
        "collapsed": true,
        "id": "CRNCAoXgqBky",
        "outputId": "aac2e350-b880-406d-be47-488a169e95fb",
        "colab": {
          "base_uri": "https://localhost:8080/"
        }
      },
      "execution_count": 3,
      "outputs": [
        {
          "output_type": "stream",
          "name": "stdout",
          "text": [
            "Cloning into 'tol403-lokaverkefni'...\n",
            "remote: Enumerating objects: 17, done.\u001b[K\n",
            "remote: Counting objects: 100% (17/17), done.\u001b[K\n",
            "remote: Compressing objects: 100% (16/16), done.\u001b[K\n",
            "remote: Total 17 (delta 3), reused 5 (delta 0), pack-reused 0 (from 0)\u001b[K\n",
            "Receiving objects: 100% (17/17), 491.96 KiB | 2.51 MiB/s, done.\n",
            "Resolving deltas: 100% (3/3), done.\n"
          ]
        }
      ]
    },
    {
      "cell_type": "code",
      "source": [
        "class Node:\n",
        "  def __init__(self, osmid, x, y, primary):\n",
        "    self.osmid = osmid,\n",
        "    self.x = x,\n",
        "    self.y = y,\n",
        "    self.primary = primary\n",
        "\n",
        "  def __repr__(self):\n",
        "        return f\"Node(id={self.osmid}, x={self.x}, y={self.y}, primary={self.primary})\"\n",
        "\n",
        "class Edge:\n",
        "  def __init__(self, u, v, length, name):\n",
        "    self.u = u,\n",
        "    self.v = v,\n",
        "    self.length = length,\n",
        "    self.name = name\n",
        "\n",
        "  def __repr__(self):\n",
        "        return f\"Edge(u={self.u}, v={self.v}, length={self.length}, name={self.name})\"\n",
        "\n",
        "class Graph:\n",
        "    def __init__(self):\n",
        "        self.adjacency_list = {}\n",
        "\n",
        "    def add_node(self, node):\n",
        "        if node.osmid not in self.adjacency_list:\n",
        "            self.adjacency_list[node.osmid] = []\n",
        "\n",
        "    def add_edge(self, edge):\n",
        "        u = edge.u\n",
        "        v = edge.v\n",
        "        weight = edge.length\n",
        "        if u not in self.adjacency_list:\n",
        "            self.add_node(Node(osmid=u, x=0, y=0, primary=False))\n",
        "        if v not in self.adjacency_list:\n",
        "            self.add_node(Node(osmid=v, x=0, y=0, primary=False))\n",
        "        self.adjacency_list[u].append((v, weight))\n",
        "\n",
        "    def get_neighbors(self, node_id):\n",
        "        return self.adjacency_list.get(node_id, [])"
      ],
      "metadata": {
        "id": "XTF7FARsxHrt"
      },
      "execution_count": 1,
      "outputs": []
    },
    {
      "cell_type": "code",
      "execution_count": null,
      "metadata": {
        "id": "ycL1dI4OWqfj"
      },
      "outputs": [],
      "source": [
        "# 2.3.1\n",
        "import csv\n",
        "\n",
        "def load_csv_into_list(filepath, cls):\n",
        "    with open(filepath, 'r') as file:\n",
        "        reader = csv.DictReader(file, delimiter = \"\\t\")\n",
        "        objects = []\n",
        "        for row in reader:\n",
        "            obj = cls(\n",
        "                **{k: v for k, v in row.items()}\n",
        "            )\n",
        "            objects.append(obj)\n",
        "        return objects\n",
        "\n",
        "nodes = load_csv_into_list('tol403-lokaverkefni/data/nodes.tsv', Node)\n",
        "edges = load_csv_into_list('tol403-lokaverkefni/data/edges.tsv', Edge)\n",
        "\n",
        "graph = Graph()\n",
        "\n",
        "for node in nodes:\n",
        "    graph.add_node(node)\n",
        "\n",
        "for edge in edges:\n",
        "    graph.add_edge(edge)"
      ]
    }
  ]
}
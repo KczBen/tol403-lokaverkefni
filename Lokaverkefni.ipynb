{
  "nbformat": 4,
  "nbformat_minor": 0,
  "metadata": {
    "colab": {
      "provenance": [],
      "authorship_tag": "ABX9TyPHLgvgJUJWIwnfhvbtSnLG",
      "include_colab_link": true
    },
    "kernelspec": {
      "name": "python3",
      "display_name": "Python 3"
    },
    "language_info": {
      "name": "python"
    }
  },
  "cells": [
    {
      "cell_type": "markdown",
      "metadata": {
        "id": "view-in-github",
        "colab_type": "text"
      },
      "source": [
        "<a href=\"https://colab.research.google.com/github/KczBen/tol403-lokaverkefni/blob/main/Lokaverkefni.ipynb\" target=\"_parent\"><img src=\"https://colab.research.google.com/assets/colab-badge.svg\" alt=\"Open In Colab\"/></a>"
      ]
    },
    {
      "cell_type": "code",
      "source": [
        "# Clone repo data into environment\n",
        "!git clone https://github.com/KczBen/tol403-lokaverkefni.git"
      ],
      "metadata": {
        "collapsed": true,
        "id": "CRNCAoXgqBky",
        "outputId": "a76d1717-e1d9-42fc-f48a-54030763152a",
        "colab": {
          "base_uri": "https://localhost:8080/"
        }
      },
      "execution_count": 1,
      "outputs": [
        {
          "output_type": "stream",
          "name": "stdout",
          "text": [
            "Cloning into 'tol403-lokaverkefni'...\n",
            "remote: Enumerating objects: 14, done.\u001b[K\n",
            "remote: Counting objects: 100% (14/14), done.\u001b[K\n",
            "remote: Compressing objects: 100% (13/13), done.\u001b[K\n",
            "remote: Total 14 (delta 2), reused 5 (delta 0), pack-reused 0 (from 0)\u001b[K\n",
            "Receiving objects: 100% (14/14), 490.79 KiB | 1.70 MiB/s, done.\n",
            "Resolving deltas: 100% (2/2), done.\n"
          ]
        }
      ]
    },
    {
      "cell_type": "code",
      "source": [
        "class Node:\n",
        "  def __init__(self, osmid, x, y, primary):\n",
        "    self.osmid = osmid,\n",
        "    self.x = x,\n",
        "    self.y = y,\n",
        "    self.primary = primary\n",
        "\n",
        "  def __repr__(self):\n",
        "        return f\"Node(id={self.osmid}, x={self.x}, y={self.y}, primary={self.primary})\"\n",
        "\n",
        "class Edge:\n",
        "  def __init__(self, u, v, length, name):\n",
        "    self.u = u,\n",
        "    self.v = v,\n",
        "    self.length = length,\n",
        "    self.name = name\n",
        "\n",
        "  def __repr__(self):\n",
        "        return f\"Edge(u={self.u}, v={self.v}, length={self.length}, name={self.name})\""
      ],
      "metadata": {
        "id": "XTF7FARsxHrt"
      },
      "execution_count": 12,
      "outputs": []
    },
    {
      "cell_type": "code",
      "execution_count": 13,
      "metadata": {
        "id": "ycL1dI4OWqfj",
        "outputId": "fc0024c0-fffc-4438-e999-6303d737968c",
        "colab": {
          "base_uri": "https://localhost:8080/"
        }
      },
      "outputs": [
        {
          "output_type": "stream",
          "name": "stdout",
          "text": [
            "Node(id=('12885866',), x=('-21.9374735',), y=('64.0672714',), primary=False)\n",
            "Node(id=('12885876',), x=('-21.9399509',), y=('64.0761569',), primary=True)\n",
            "Node(id=('12885922',), x=('-22.0878904',), y=('64.0319775',), primary=False)\n",
            "Node(id=('12885923',), x=('-21.9378515',), y=('64.0672598',), primary=False)\n",
            "Node(id=('12885924',), x=('-21.9380784',), y=('64.0670465',), primary=True)\n",
            "Node(id=('12885930',), x=('-21.9406337',), y=('64.0759348',), primary=True)\n",
            "Node(id=('12885937',), x=('-22.036558',), y=('64.0414971',), primary=False)\n",
            "Node(id=('12885952',), x=('-21.9401375',), y=('64.0762733',), primary=True)\n",
            "Node(id=('12885974',), x=('-21.9379271',), y=('64.0669345',), primary=False)\n",
            "Node(id=('12885979',), x=('-21.9406832',), y=('64.0762644',), primary=True)\n"
          ]
        }
      ],
      "source": [
        "import csv\n",
        "\n",
        "def load_csv_into_list(filepath, cls):\n",
        "    with open(filepath, 'r') as file:\n",
        "        reader = csv.DictReader(file, delimiter = \"\\t\")\n",
        "        objects = []\n",
        "        for row in reader:\n",
        "            obj = cls(\n",
        "                **{k: v for k, v in row.items()}\n",
        "            )\n",
        "            objects.append(obj)\n",
        "        return objects\n",
        "\n",
        "\n",
        "nodes = load_csv_into_list('tol403-lokaverkefni/data/nodes.tsv', Node)\n",
        "edges = load_csv_into_list('tol403-lokaverkefni/data/edges.tsv', Edge)"
      ]
    }
  ]
}
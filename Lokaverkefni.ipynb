{
  "nbformat": 4,
  "nbformat_minor": 0,
  "metadata": {
    "colab": {
      "provenance": [],
      "authorship_tag": "ABX9TyOOij3WQILNT+V7k8zkeo9Q",
      "include_colab_link": true
    },
    "kernelspec": {
      "name": "python3",
      "display_name": "Python 3"
    },
    "language_info": {
      "name": "python"
    }
  },
  "cells": [
    {
      "cell_type": "markdown",
      "metadata": {
        "id": "view-in-github",
        "colab_type": "text"
      },
      "source": [
        "<a href=\"https://colab.research.google.com/github/KczBen/tol403-lokaverkefni/blob/main/Lokaverkefni.ipynb\" target=\"_parent\"><img src=\"https://colab.research.google.com/assets/colab-badge.svg\" alt=\"Open In Colab\"/></a>"
      ]
    },
    {
      "cell_type": "code",
      "source": [
        "# Clone repo data into environment\n",
        "!git clone https://github.com/KczBen/tol403-lokaverkefni.git"
      ],
      "metadata": {
        "collapsed": true,
        "id": "CRNCAoXgqBky",
        "colab": {
          "base_uri": "https://localhost:8080/"
        },
        "outputId": "60250896-55dc-4d9f-a0ed-f6abd681116d"
      },
      "execution_count": 1,
      "outputs": [
        {
          "output_type": "stream",
          "name": "stdout",
          "text": [
            "Cloning into 'tol403-lokaverkefni'...\n",
            "remote: Enumerating objects: 45, done.\u001b[K\n",
            "remote: Counting objects: 100% (45/45), done.\u001b[K\n",
            "remote: Compressing objects: 100% (43/43), done.\u001b[K\n",
            "remote: Total 45 (delta 14), reused 11 (delta 1), pack-reused 0 (from 0)\u001b[K\n",
            "Receiving objects: 100% (45/45), 4.05 MiB | 6.45 MiB/s, done.\n",
            "Resolving deltas: 100% (14/14), done.\n"
          ]
        }
      ]
    },
    {
      "cell_type": "code",
      "source": [
        "import pandas as pd\n",
        "import folium\n",
        "from folium import Map, Marker, PolyLine, features, RegularPolygonMarker, DivIcon\n",
        "from folium.plugins import PolyLineTextPath\n",
        "import math\n",
        "import networkx as nx\n",
        "import time\n",
        "import concurrent.futures"
      ],
      "metadata": {
        "id": "XTF7FARsxHrt"
      },
      "execution_count": 11,
      "outputs": []
    },
    {
      "cell_type": "code",
      "execution_count": 3,
      "metadata": {
        "id": "ycL1dI4OWqfj"
      },
      "outputs": [],
      "source": [
        "# 2.3.1\n",
        "\n",
        "nodes = pd.read_csv('tol403-lokaverkefni/data/nodes.tsv', sep = \"\\t\")\n",
        "edges = pd.read_csv('tol403-lokaverkefni/data/edges.tsv', sep = \"\\t\")\n",
        "\n",
        "charging_station_nodes = {323346405, 87120378, 2374444198, 1345740157, 2351742223}\n",
        "\n",
        "coords = {\n",
        "    row['osmid']: (row['y'], row['x'])  # Folium notar (lat, lon)\n",
        "    for _, row in nodes.iterrows()\n",
        "}\n",
        "\n",
        "# búum til graf með stefnu og þyngd fyrir edges\n",
        "G = nx.DiGraph()\n",
        "for _, row in edges.iterrows():\n",
        "    G.add_edge(row['u'], row['v'], weight=row['length'])\n",
        "\n",
        "## Need to reverse because it's a directed graph\n",
        "G_rev = G.reverse()"
      ]
    },
    {
      "cell_type": "code",
      "source": [
        "# 2.3.2\n",
        "def shortest_distance_to_charger(node_id, graph, charger_nodes):\n",
        "    min_distance = float('inf')\n",
        "    closest_station = None\n",
        "    for charger_id in charger_nodes:\n",
        "        try:\n",
        "            dist = nx.dijkstra_path_length(graph, source=node_id, target=charger_id, weight='weight')\n",
        "            if dist < min_distance:\n",
        "                min_distance = dist\n",
        "                closest_station = charger_id\n",
        "        except (nx.NetworkXNoPath, nx.NodeNotFound):\n",
        "            continue\n",
        "    return min_distance, closest_station"
      ],
      "metadata": {
        "id": "kQ5UuoqKO6XN"
      },
      "execution_count": 4,
      "outputs": []
    },
    {
      "cell_type": "code",
      "source": [
        "# 2.3.3\n",
        "\n",
        "def create_map():\n",
        "    # Búum til base map með miðju í average location.\n",
        "    center_lat = nodes['y'].mean()\n",
        "    center_lon = nodes['x'].mean()\n",
        "    m = folium.Map(location = [center_lat, center_lon], zoom_start= 12)\n",
        "\n",
        "    # reiknum gráður fyrir örina sjálfa\n",
        "    def calculate_angle(start, end):\n",
        "        dy = end[0] - start[0]\n",
        "        dx = end[1] - start[1]\n",
        "        angle = math.degrees(math.atan2(dy, dx))\n",
        "        return angle\n",
        "\n",
        "    start_time = time.time()\n",
        "\n",
        "    # setjum nodes á kortið - blátt=nonprimary rautt=primary og appelsínugult= hleðslustöð.\n",
        "    for _, row in nodes.iterrows():\n",
        "        node_id = row['osmid']\n",
        "\n",
        "        # Decide color and popup content\n",
        "        if node_id in charging_station_nodes:\n",
        "            color = \"orange\"\n",
        "            popup_text = f\"🔌 Hleðslustöð <br>Node ID: {node_id}\"\n",
        "        else:\n",
        "            color = \"red\" if row['primary'] else \"blue\"\n",
        "            distance, closest = shortest_distance_to_charger(node_id, G_rev, charging_station_nodes)\n",
        "            popup_text = f\"🚗 Node ID: {node_id}<br>Primary: {row['primary']}<br>\" \\\n",
        "                        f\"Fjarlægð frá næstu hleðslustöð: {distance:.2f} meters<br>Næsta hleðslustöð: {closest}\"\n",
        "\n",
        "        folium.CircleMarker(\n",
        "            location=[row['y'], row['x']],\n",
        "            radius=4,\n",
        "            color=color,\n",
        "            fill=True,\n",
        "            fill_color=color,\n",
        "            fill_opacity=0.8,\n",
        "            popup=folium.Popup(popup_text, max_width=250)\n",
        "        ).add_to(m)\n",
        "\n",
        "    print(f\"Keyrsla tók {int(time.time() - start_time)}s\")\n",
        "\n",
        "    # setjum edges með stefnu á kortið\n",
        "    for _, row in edges.iterrows():\n",
        "        if row['u'] in coords and row['v'] in coords:\n",
        "            start = coords[row['u']]\n",
        "            end = coords[row['v']]\n",
        "\n",
        "            # línan\n",
        "            PolyLine(\n",
        "                locations=[start, end],\n",
        "                color='gray',\n",
        "                weight=1,\n",
        "                opacity=0.5,\n",
        "                popup=row.get('name', '')\n",
        "            ).add_to(m)\n",
        "\n",
        "            # Reiknum gráðu á ör-iconinu og setjum svo á endann á línunni\n",
        "            # vantar að laga betur, gerir kortið mjög hægt líka.\n",
        "            \"\"\"angle = calculate_angle(start, end)\n",
        "            folium.map.Marker(\n",
        "                location=end,\n",
        "                icon=DivIcon(\n",
        "                    icon_size=(150, 36),\n",
        "                    icon_anchor=(7, 20),\n",
        "                    html=f'<div style=\"transform: rotate({angle}deg); color: gray; font-size: 16px;\">&#8594;</div>'\n",
        "                )\n",
        "            ).add_to(m)\"\"\"\n",
        "\n",
        "\n",
        "    output_file = \"kort.html\"\n",
        "    m.save(output_file)\n",
        "    print(f\"Kort geymt i skra: {output_file}\")\n",
        "\n",
        "start_time = 0\n",
        "run_time = 0\n",
        "\n",
        "create_map()"
      ],
      "metadata": {
        "id": "SfNz_MbCcT1U",
        "colab": {
          "base_uri": "https://localhost:8080/"
        },
        "outputId": "a9f462e8-9daf-4724-fb1b-7386a449d81d"
      },
      "execution_count": 5,
      "outputs": [
        {
          "output_type": "stream",
          "name": "stdout",
          "text": [
            "Keyrsla tók 487s\n",
            "Kort geymt i skra: kort.html\n"
          ]
        }
      ]
    },
    {
      "cell_type": "code",
      "source": [
        "# 2.3.4\n",
        "\n",
        "## it's in the code above"
      ],
      "metadata": {
        "id": "8_jX2v9ReTeB"
      },
      "execution_count": 6,
      "outputs": []
    },
    {
      "cell_type": "code",
      "source": [
        "# 2.3.5\n",
        "\n",
        "## Heuristic for A*\n",
        "## Needlessly complicated on such a small scale\n",
        "## Calculate the distance between two points on the surface of a sphere\n",
        "## It's somewhat off up here since the Earth isn't a perfect sphere\n",
        "\n",
        "def calc_spherical_distance(node_id, target_id):\n",
        "    lat_source,lon_source = coords[node_id]\n",
        "    lat_target,lon_target = coords[target_id]\n",
        "\n",
        "    radius = 6373.0\n",
        "\n",
        "    delta_lat = math.radians(lat_target) - math.radians(lat_source)\n",
        "    delta_lon = math.radians(lon_target) - math.radians(lon_source)\n",
        "\n",
        "    a = math.sin(delta_lat / 2)**2 + math.cos(lat_source) * math.cos(lat_target) * math.sin(delta_lon / 2)**2\n",
        "    c = 2 * math.atan2(math.sqrt(a), math.sqrt(1 - a))\n",
        "\n",
        "    distance = radius * c * 1000 #metres\n",
        "\n",
        "    return distance\n",
        "\n",
        "def astar_distance_to_charger(node_id, graph, charger_nodes):\n",
        "    min_distance = float('inf')\n",
        "    closest_station = None\n",
        "    for charger_id in charger_nodes:\n",
        "        try:\n",
        "            dist = nx.astar_path_length(graph, source=node_id, target=charger_id, heuristic=calc_spherical_distance, weight='weight')\n",
        "            if dist < min_distance:\n",
        "                min_distance = dist\n",
        "                closest_station = charger_id\n",
        "        except (nx.NetworkXNoPath, nx.NodeNotFound):\n",
        "            continue\n",
        "    return min_distance, closest_station\n",
        "\n",
        "\n",
        "## Return the sum for later use\n",
        "def run_astar(charging_station_nodes, benchmark):\n",
        "    distance_sum = 0.0\n",
        "    if benchmark == True:\n",
        "        start_time = time.time()\n",
        "\n",
        "    for _, row in nodes.iterrows():\n",
        "        node_id = row['osmid']\n",
        "        distance, closest = astar_distance_to_charger(node_id, G_rev, charging_station_nodes)\n",
        "\n",
        "        ## Ignore unreachable paths\n",
        "        if distance != float(\"inf\"):\n",
        "            distance_sum += distance\n",
        "\n",
        "    if benchmark == True:\n",
        "        print(f\"Keyrsla tók {int(time.time() - start_time)}s\")\n",
        "\n",
        "    return distance_sum\n",
        "\n",
        "run_astar(charging_station_nodes, True)"
      ],
      "metadata": {
        "id": "NPSUIwKNj7a-",
        "colab": {
          "base_uri": "https://localhost:8080/"
        },
        "outputId": "1df51744-a25a-46fc-d9b7-bbeeedfd7ae0"
      },
      "execution_count": 7,
      "outputs": [
        {
          "output_type": "stream",
          "name": "stdout",
          "text": [
            "Keyrsla tók 331s\n"
          ]
        },
        {
          "output_type": "execute_result",
          "data": {
            "text/plain": [
              "52496231.65324983"
            ]
          },
          "metadata": {},
          "execution_count": 7
        }
      ]
    },
    {
      "cell_type": "code",
      "source": [
        "# 2.3.6\n",
        "\n",
        "## For all primary nodes, run A* and check whichever is the closest to all nodes overall\n",
        "\n",
        "def process_node(node):\n",
        "    distance = run_astar([node.osmid], False)\n",
        "    print(f\"Distance sum from {node.osmid} was {distance}\")\n",
        "    return node, distance\n",
        "\n",
        "def place_optimal_charger():\n",
        "\n",
        "    # first get primary nodes\n",
        "    primary_nodes = []\n",
        "    for _, row in nodes.iterrows():\n",
        "        if row['primary'] == True:\n",
        "            primary_nodes.append(row)\n",
        "\n",
        "    start_time = time.time()\n",
        "\n",
        "    # Multi-processing so it doesn't take a decade\n",
        "    # Colab only has 2 cores so it's not THAT much faster\n",
        "    results = []\n",
        "    with concurrent.futures.ProcessPoolExecutor() as executor:\n",
        "        for node, distance in executor.map(process_node, primary_nodes):\n",
        "            results.append((node, distance))\n",
        "\n",
        "    best_node, best_distance = min(results, key=lambda x: x[1])\n",
        "\n",
        "    print(f\"Keyrsla tók {int(time.time() - start_time)}s\")\n",
        "    return best_node, best_distance\n",
        "\n",
        "place_optimal_charger()"
      ],
      "metadata": {
        "id": "VIqY8tgWLIsF",
        "colab": {
          "base_uri": "https://localhost:8080/",
          "height": 883
        },
        "outputId": "570e23fc-57ac-44c3-8129-401d2fafb519"
      },
      "execution_count": 12,
      "outputs": [
        {
          "output_type": "stream",
          "name": "stdout",
          "text": [
            "Distance sum from 12885924 was 103926680.1080052\n",
            "Distance sum from 12885876 was 98018295.05329408\n",
            "Distance sum from 12885930 was 98241165.93938297\n",
            "Distance sum from 12885952 was 97933738.12789126\n",
            "Distance sum from 12885979 was 97906567.29132639\n",
            "Distance sum from 12885991 was 98154817.19460295\n",
            "Distance sum from 12886003 was 103851397.87259687\n",
            "Distance sum from 12886027 was 98009926.37293293\n",
            "Distance sum from 14581636 was 122869154.79011011\n",
            "Distance sum from 14581771 was 122477809.08395684\n",
            "Distance sum from 14581824 was 123375167.8341863\n",
            "Distance sum from 14581900 was 123146914.82818255\n",
            "Distance sum from 14581950 was 123082819.95090888\n",
            "Distance sum from 14581956 was 116186341.8013952\n",
            "Distance sum from 14581975 was 122763333.79327714\n",
            "Distance sum from 14581979 was 123318881.98837976\n",
            "Distance sum from 14586500 was 81929837.48730758\n",
            "Distance sum from 14586684 was 80141451.82075207\n",
            "Distance sum from 14586813 was 77624505.2261567\n",
            "Distance sum from 14586932 was 127318819.57329607\n",
            "Distance sum from 14586999 was 127475651.10407668\n",
            "Distance sum from 14587063 was 80043005.26578929\n",
            "Distance sum from 14587161 was 127622908.74083693\n",
            "Distance sum from 14705468 was 127134405.7435985\n",
            "Distance sum from 14772869 was 142270324.4943504\n",
            "Distance sum from 14772879 was 142514570.22114423\n"
          ]
        },
        {
          "output_type": "error",
          "ename": "KeyboardInterrupt",
          "evalue": "",
          "traceback": [
            "\u001b[0;31m---------------------------------------------------------------------------\u001b[0m",
            "\u001b[0;31mKeyboardInterrupt\u001b[0m                         Traceback (most recent call last)",
            "\u001b[0;32m<ipython-input-12-b972023fadd7>\u001b[0m in \u001b[0;36mplace_optimal_charger\u001b[0;34m()\u001b[0m\n\u001b[1;32m     22\u001b[0m     \u001b[0;32mwith\u001b[0m \u001b[0mconcurrent\u001b[0m\u001b[0;34m.\u001b[0m\u001b[0mfutures\u001b[0m\u001b[0;34m.\u001b[0m\u001b[0mProcessPoolExecutor\u001b[0m\u001b[0;34m(\u001b[0m\u001b[0;34m)\u001b[0m \u001b[0;32mas\u001b[0m \u001b[0mexecutor\u001b[0m\u001b[0;34m:\u001b[0m\u001b[0;34m\u001b[0m\u001b[0;34m\u001b[0m\u001b[0m\n\u001b[0;32m---> 23\u001b[0;31m         \u001b[0;32mfor\u001b[0m \u001b[0mnode\u001b[0m\u001b[0;34m,\u001b[0m \u001b[0mdistance\u001b[0m \u001b[0;32min\u001b[0m \u001b[0mexecutor\u001b[0m\u001b[0;34m.\u001b[0m\u001b[0mmap\u001b[0m\u001b[0;34m(\u001b[0m\u001b[0mprocess_node\u001b[0m\u001b[0;34m,\u001b[0m \u001b[0mprimary_nodes\u001b[0m\u001b[0;34m)\u001b[0m\u001b[0;34m:\u001b[0m\u001b[0;34m\u001b[0m\u001b[0;34m\u001b[0m\u001b[0m\n\u001b[0m\u001b[1;32m     24\u001b[0m             \u001b[0mresults\u001b[0m\u001b[0;34m.\u001b[0m\u001b[0mappend\u001b[0m\u001b[0;34m(\u001b[0m\u001b[0;34m(\u001b[0m\u001b[0mnode\u001b[0m\u001b[0;34m,\u001b[0m \u001b[0mdistance\u001b[0m\u001b[0;34m)\u001b[0m\u001b[0;34m)\u001b[0m\u001b[0;34m\u001b[0m\u001b[0;34m\u001b[0m\u001b[0m\n",
            "\u001b[0;32m/usr/lib/python3.11/concurrent/futures/process.py\u001b[0m in \u001b[0;36m_chain_from_iterable_of_lists\u001b[0;34m(iterable)\u001b[0m\n\u001b[1;32m    619\u001b[0m     \"\"\"\n\u001b[0;32m--> 620\u001b[0;31m     \u001b[0;32mfor\u001b[0m \u001b[0melement\u001b[0m \u001b[0;32min\u001b[0m \u001b[0miterable\u001b[0m\u001b[0;34m:\u001b[0m\u001b[0;34m\u001b[0m\u001b[0;34m\u001b[0m\u001b[0m\n\u001b[0m\u001b[1;32m    621\u001b[0m         \u001b[0melement\u001b[0m\u001b[0;34m.\u001b[0m\u001b[0mreverse\u001b[0m\u001b[0;34m(\u001b[0m\u001b[0;34m)\u001b[0m\u001b[0;34m\u001b[0m\u001b[0;34m\u001b[0m\u001b[0m\n",
            "\u001b[0;32m/usr/lib/python3.11/concurrent/futures/_base.py\u001b[0m in \u001b[0;36mresult_iterator\u001b[0;34m()\u001b[0m\n\u001b[1;32m    618\u001b[0m                     \u001b[0;32mif\u001b[0m \u001b[0mtimeout\u001b[0m \u001b[0;32mis\u001b[0m \u001b[0;32mNone\u001b[0m\u001b[0;34m:\u001b[0m\u001b[0;34m\u001b[0m\u001b[0;34m\u001b[0m\u001b[0m\n\u001b[0;32m--> 619\u001b[0;31m                         \u001b[0;32myield\u001b[0m \u001b[0m_result_or_cancel\u001b[0m\u001b[0;34m(\u001b[0m\u001b[0mfs\u001b[0m\u001b[0;34m.\u001b[0m\u001b[0mpop\u001b[0m\u001b[0;34m(\u001b[0m\u001b[0;34m)\u001b[0m\u001b[0;34m)\u001b[0m\u001b[0;34m\u001b[0m\u001b[0;34m\u001b[0m\u001b[0m\n\u001b[0m\u001b[1;32m    620\u001b[0m                     \u001b[0;32melse\u001b[0m\u001b[0;34m:\u001b[0m\u001b[0;34m\u001b[0m\u001b[0;34m\u001b[0m\u001b[0m\n",
            "\u001b[0;32m/usr/lib/python3.11/concurrent/futures/_base.py\u001b[0m in \u001b[0;36m_result_or_cancel\u001b[0;34m(***failed resolving arguments***)\u001b[0m\n\u001b[1;32m    316\u001b[0m         \u001b[0;32mtry\u001b[0m\u001b[0;34m:\u001b[0m\u001b[0;34m\u001b[0m\u001b[0;34m\u001b[0m\u001b[0m\n\u001b[0;32m--> 317\u001b[0;31m             \u001b[0;32mreturn\u001b[0m \u001b[0mfut\u001b[0m\u001b[0;34m.\u001b[0m\u001b[0mresult\u001b[0m\u001b[0;34m(\u001b[0m\u001b[0mtimeout\u001b[0m\u001b[0;34m)\u001b[0m\u001b[0;34m\u001b[0m\u001b[0;34m\u001b[0m\u001b[0m\n\u001b[0m\u001b[1;32m    318\u001b[0m         \u001b[0;32mfinally\u001b[0m\u001b[0;34m:\u001b[0m\u001b[0;34m\u001b[0m\u001b[0;34m\u001b[0m\u001b[0m\n",
            "\u001b[0;32m/usr/lib/python3.11/concurrent/futures/_base.py\u001b[0m in \u001b[0;36mresult\u001b[0;34m(self, timeout)\u001b[0m\n\u001b[1;32m    450\u001b[0m \u001b[0;34m\u001b[0m\u001b[0m\n\u001b[0;32m--> 451\u001b[0;31m                 \u001b[0mself\u001b[0m\u001b[0;34m.\u001b[0m\u001b[0m_condition\u001b[0m\u001b[0;34m.\u001b[0m\u001b[0mwait\u001b[0m\u001b[0;34m(\u001b[0m\u001b[0mtimeout\u001b[0m\u001b[0;34m)\u001b[0m\u001b[0;34m\u001b[0m\u001b[0;34m\u001b[0m\u001b[0m\n\u001b[0m\u001b[1;32m    452\u001b[0m \u001b[0;34m\u001b[0m\u001b[0m\n",
            "\u001b[0;32m/usr/lib/python3.11/threading.py\u001b[0m in \u001b[0;36mwait\u001b[0;34m(self, timeout)\u001b[0m\n\u001b[1;32m    326\u001b[0m             \u001b[0;32mif\u001b[0m \u001b[0mtimeout\u001b[0m \u001b[0;32mis\u001b[0m \u001b[0;32mNone\u001b[0m\u001b[0;34m:\u001b[0m\u001b[0;34m\u001b[0m\u001b[0;34m\u001b[0m\u001b[0m\n\u001b[0;32m--> 327\u001b[0;31m                 \u001b[0mwaiter\u001b[0m\u001b[0;34m.\u001b[0m\u001b[0macquire\u001b[0m\u001b[0;34m(\u001b[0m\u001b[0;34m)\u001b[0m\u001b[0;34m\u001b[0m\u001b[0;34m\u001b[0m\u001b[0m\n\u001b[0m\u001b[1;32m    328\u001b[0m                 \u001b[0mgotit\u001b[0m \u001b[0;34m=\u001b[0m \u001b[0;32mTrue\u001b[0m\u001b[0;34m\u001b[0m\u001b[0;34m\u001b[0m\u001b[0m\n",
            "\u001b[0;31mKeyboardInterrupt\u001b[0m: ",
            "\nDuring handling of the above exception, another exception occurred:\n",
            "\u001b[0;31mKeyboardInterrupt\u001b[0m                         Traceback (most recent call last)",
            "\u001b[0;32m<ipython-input-12-b972023fadd7>\u001b[0m in \u001b[0;36m<cell line: 0>\u001b[0;34m()\u001b[0m\n\u001b[1;32m     29\u001b[0m     \u001b[0;32mreturn\u001b[0m \u001b[0mbest_node\u001b[0m\u001b[0;34m,\u001b[0m \u001b[0mbest_distance\u001b[0m\u001b[0;34m\u001b[0m\u001b[0;34m\u001b[0m\u001b[0m\n\u001b[1;32m     30\u001b[0m \u001b[0;34m\u001b[0m\u001b[0m\n\u001b[0;32m---> 31\u001b[0;31m \u001b[0mplace_optimal_charger\u001b[0m\u001b[0;34m(\u001b[0m\u001b[0;34m)\u001b[0m\u001b[0;34m\u001b[0m\u001b[0;34m\u001b[0m\u001b[0m\n\u001b[0m",
            "\u001b[0;32m<ipython-input-12-b972023fadd7>\u001b[0m in \u001b[0;36mplace_optimal_charger\u001b[0;34m()\u001b[0m\n\u001b[1;32m     20\u001b[0m     \u001b[0;31m# Multi-processing so it doesn't take a decade\u001b[0m\u001b[0;34m\u001b[0m\u001b[0;34m\u001b[0m\u001b[0m\n\u001b[1;32m     21\u001b[0m     \u001b[0mresults\u001b[0m \u001b[0;34m=\u001b[0m \u001b[0;34m[\u001b[0m\u001b[0;34m]\u001b[0m\u001b[0;34m\u001b[0m\u001b[0;34m\u001b[0m\u001b[0m\n\u001b[0;32m---> 22\u001b[0;31m     \u001b[0;32mwith\u001b[0m \u001b[0mconcurrent\u001b[0m\u001b[0;34m.\u001b[0m\u001b[0mfutures\u001b[0m\u001b[0;34m.\u001b[0m\u001b[0mProcessPoolExecutor\u001b[0m\u001b[0;34m(\u001b[0m\u001b[0;34m)\u001b[0m \u001b[0;32mas\u001b[0m \u001b[0mexecutor\u001b[0m\u001b[0;34m:\u001b[0m\u001b[0;34m\u001b[0m\u001b[0;34m\u001b[0m\u001b[0m\n\u001b[0m\u001b[1;32m     23\u001b[0m         \u001b[0;32mfor\u001b[0m \u001b[0mnode\u001b[0m\u001b[0;34m,\u001b[0m \u001b[0mdistance\u001b[0m \u001b[0;32min\u001b[0m \u001b[0mexecutor\u001b[0m\u001b[0;34m.\u001b[0m\u001b[0mmap\u001b[0m\u001b[0;34m(\u001b[0m\u001b[0mprocess_node\u001b[0m\u001b[0;34m,\u001b[0m \u001b[0mprimary_nodes\u001b[0m\u001b[0;34m)\u001b[0m\u001b[0;34m:\u001b[0m\u001b[0;34m\u001b[0m\u001b[0;34m\u001b[0m\u001b[0m\n\u001b[1;32m     24\u001b[0m             \u001b[0mresults\u001b[0m\u001b[0;34m.\u001b[0m\u001b[0mappend\u001b[0m\u001b[0;34m(\u001b[0m\u001b[0;34m(\u001b[0m\u001b[0mnode\u001b[0m\u001b[0;34m,\u001b[0m \u001b[0mdistance\u001b[0m\u001b[0;34m)\u001b[0m\u001b[0;34m)\u001b[0m\u001b[0;34m\u001b[0m\u001b[0;34m\u001b[0m\u001b[0m\n",
            "\u001b[0;32m/usr/lib/python3.11/concurrent/futures/_base.py\u001b[0m in \u001b[0;36m__exit__\u001b[0;34m(self, exc_type, exc_val, exc_tb)\u001b[0m\n\u001b[1;32m    645\u001b[0m \u001b[0;34m\u001b[0m\u001b[0m\n\u001b[1;32m    646\u001b[0m     \u001b[0;32mdef\u001b[0m \u001b[0m__exit__\u001b[0m\u001b[0;34m(\u001b[0m\u001b[0mself\u001b[0m\u001b[0;34m,\u001b[0m \u001b[0mexc_type\u001b[0m\u001b[0;34m,\u001b[0m \u001b[0mexc_val\u001b[0m\u001b[0;34m,\u001b[0m \u001b[0mexc_tb\u001b[0m\u001b[0;34m)\u001b[0m\u001b[0;34m:\u001b[0m\u001b[0;34m\u001b[0m\u001b[0;34m\u001b[0m\u001b[0m\n\u001b[0;32m--> 647\u001b[0;31m         \u001b[0mself\u001b[0m\u001b[0;34m.\u001b[0m\u001b[0mshutdown\u001b[0m\u001b[0;34m(\u001b[0m\u001b[0mwait\u001b[0m\u001b[0;34m=\u001b[0m\u001b[0;32mTrue\u001b[0m\u001b[0;34m)\u001b[0m\u001b[0;34m\u001b[0m\u001b[0;34m\u001b[0m\u001b[0m\n\u001b[0m\u001b[1;32m    648\u001b[0m         \u001b[0;32mreturn\u001b[0m \u001b[0;32mFalse\u001b[0m\u001b[0;34m\u001b[0m\u001b[0;34m\u001b[0m\u001b[0m\n\u001b[1;32m    649\u001b[0m \u001b[0;34m\u001b[0m\u001b[0m\n",
            "\u001b[0;32m/usr/lib/python3.11/concurrent/futures/process.py\u001b[0m in \u001b[0;36mshutdown\u001b[0;34m(self, wait, cancel_futures)\u001b[0m\n\u001b[1;32m    849\u001b[0m \u001b[0;34m\u001b[0m\u001b[0m\n\u001b[1;32m    850\u001b[0m         \u001b[0;32mif\u001b[0m \u001b[0mself\u001b[0m\u001b[0;34m.\u001b[0m\u001b[0m_executor_manager_thread\u001b[0m \u001b[0;32mis\u001b[0m \u001b[0;32mnot\u001b[0m \u001b[0;32mNone\u001b[0m \u001b[0;32mand\u001b[0m \u001b[0mwait\u001b[0m\u001b[0;34m:\u001b[0m\u001b[0;34m\u001b[0m\u001b[0;34m\u001b[0m\u001b[0m\n\u001b[0;32m--> 851\u001b[0;31m             \u001b[0mself\u001b[0m\u001b[0;34m.\u001b[0m\u001b[0m_executor_manager_thread\u001b[0m\u001b[0;34m.\u001b[0m\u001b[0mjoin\u001b[0m\u001b[0;34m(\u001b[0m\u001b[0;34m)\u001b[0m\u001b[0;34m\u001b[0m\u001b[0;34m\u001b[0m\u001b[0m\n\u001b[0m\u001b[1;32m    852\u001b[0m         \u001b[0;31m# To reduce the risk of opening too many files, remove references to\u001b[0m\u001b[0;34m\u001b[0m\u001b[0;34m\u001b[0m\u001b[0m\n\u001b[1;32m    853\u001b[0m         \u001b[0;31m# objects that use file descriptors.\u001b[0m\u001b[0;34m\u001b[0m\u001b[0;34m\u001b[0m\u001b[0m\n",
            "\u001b[0;32m/usr/lib/python3.11/threading.py\u001b[0m in \u001b[0;36mjoin\u001b[0;34m(self, timeout)\u001b[0m\n\u001b[1;32m   1117\u001b[0m \u001b[0;34m\u001b[0m\u001b[0m\n\u001b[1;32m   1118\u001b[0m         \u001b[0;32mif\u001b[0m \u001b[0mtimeout\u001b[0m \u001b[0;32mis\u001b[0m \u001b[0;32mNone\u001b[0m\u001b[0;34m:\u001b[0m\u001b[0;34m\u001b[0m\u001b[0;34m\u001b[0m\u001b[0m\n\u001b[0;32m-> 1119\u001b[0;31m             \u001b[0mself\u001b[0m\u001b[0;34m.\u001b[0m\u001b[0m_wait_for_tstate_lock\u001b[0m\u001b[0;34m(\u001b[0m\u001b[0;34m)\u001b[0m\u001b[0;34m\u001b[0m\u001b[0;34m\u001b[0m\u001b[0m\n\u001b[0m\u001b[1;32m   1120\u001b[0m         \u001b[0;32melse\u001b[0m\u001b[0;34m:\u001b[0m\u001b[0;34m\u001b[0m\u001b[0;34m\u001b[0m\u001b[0m\n\u001b[1;32m   1121\u001b[0m             \u001b[0;31m# the behavior of a negative timeout isn't documented, but\u001b[0m\u001b[0;34m\u001b[0m\u001b[0;34m\u001b[0m\u001b[0m\n",
            "\u001b[0;32m/usr/lib/python3.11/threading.py\u001b[0m in \u001b[0;36m_wait_for_tstate_lock\u001b[0;34m(self, block, timeout)\u001b[0m\n\u001b[1;32m   1137\u001b[0m \u001b[0;34m\u001b[0m\u001b[0m\n\u001b[1;32m   1138\u001b[0m         \u001b[0;32mtry\u001b[0m\u001b[0;34m:\u001b[0m\u001b[0;34m\u001b[0m\u001b[0;34m\u001b[0m\u001b[0m\n\u001b[0;32m-> 1139\u001b[0;31m             \u001b[0;32mif\u001b[0m \u001b[0mlock\u001b[0m\u001b[0;34m.\u001b[0m\u001b[0macquire\u001b[0m\u001b[0;34m(\u001b[0m\u001b[0mblock\u001b[0m\u001b[0;34m,\u001b[0m \u001b[0mtimeout\u001b[0m\u001b[0;34m)\u001b[0m\u001b[0;34m:\u001b[0m\u001b[0;34m\u001b[0m\u001b[0;34m\u001b[0m\u001b[0m\n\u001b[0m\u001b[1;32m   1140\u001b[0m                 \u001b[0mlock\u001b[0m\u001b[0;34m.\u001b[0m\u001b[0mrelease\u001b[0m\u001b[0;34m(\u001b[0m\u001b[0;34m)\u001b[0m\u001b[0;34m\u001b[0m\u001b[0;34m\u001b[0m\u001b[0m\n\u001b[1;32m   1141\u001b[0m                 \u001b[0mself\u001b[0m\u001b[0;34m.\u001b[0m\u001b[0m_stop\u001b[0m\u001b[0;34m(\u001b[0m\u001b[0;34m)\u001b[0m\u001b[0;34m\u001b[0m\u001b[0;34m\u001b[0m\u001b[0m\n",
            "\u001b[0;31mKeyboardInterrupt\u001b[0m: "
          ]
        }
      ]
    }
  ]
}
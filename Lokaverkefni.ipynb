{
  "nbformat": 4,
  "nbformat_minor": 0,
  "metadata": {
    "colab": {
      "provenance": [],
      "authorship_tag": "ABX9TyPdeKxh1zcUBusK0pAUH1hP",
      "include_colab_link": true
    },
    "kernelspec": {
      "name": "python3",
      "display_name": "Python 3"
    },
    "language_info": {
      "name": "python"
    }
  },
  "cells": [
    {
      "cell_type": "markdown",
      "metadata": {
        "id": "view-in-github",
        "colab_type": "text"
      },
      "source": [
        "<a href=\"https://colab.research.google.com/github/KczBen/tol403-lokaverkefni/blob/main/Lokaverkefni.ipynb\" target=\"_parent\"><img src=\"https://colab.research.google.com/assets/colab-badge.svg\" alt=\"Open In Colab\"/></a>"
      ]
    },
    {
      "cell_type": "code",
      "source": [
        "# Clone repo data into environment\n",
        "!git clone https://github.com/KczBen/tol403-lokaverkefni.git"
      ],
      "metadata": {
        "collapsed": true,
        "id": "CRNCAoXgqBky"
      },
      "execution_count": null,
      "outputs": []
    },
    {
      "cell_type": "code",
      "execution_count": null,
      "metadata": {
        "id": "ycL1dI4OWqfj"
      },
      "outputs": [],
      "source": [
        "import pandas as pd\n",
        "\n",
        "nodes = pd.read_csv('tol403-lokaverkefni/data/nodes.tsv', sep='\\t')\n",
        "edges = pd.read_csv('tol403-lokaverkefni/data/edges.tsv', sep='\\t')\n",
        "\n",
        "# Did we actually get the data?\n",
        "print(nodes.head(10))\n",
        "print(edges.head(10))"
      ]
    }
  ]
}
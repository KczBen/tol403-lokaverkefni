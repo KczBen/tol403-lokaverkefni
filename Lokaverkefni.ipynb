{
  "cells": [
    {
      "cell_type": "markdown",
      "metadata": {
        "colab_type": "text",
        "id": "view-in-github"
      },
      "source": [
        "<a href=\"https://colab.research.google.com/github/KczBen/tol403-lokaverkefni/blob/main/Lokaverkefni.ipynb\" target=\"_parent\"><img src=\"https://colab.research.google.com/assets/colab-badge.svg\" alt=\"Open In Colab\"/></a>"
      ]
    },
    {
      "cell_type": "code",
      "execution_count": null,
      "metadata": {
        "colab": {
          "base_uri": "https://localhost:8080/"
        },
        "collapsed": true,
        "id": "CRNCAoXgqBky",
        "outputId": "5aebdec0-c4dc-4794-c91f-6876a5f0ab93"
      },
      "outputs": [],
      "source": [
        "# Clone repo data into environment\n",
        "!git clone https://github.com/KczBen/tol403-lokaverkefni.git\n",
        "\n",
        "# All code was last ran on an AMD Ryzen 7 5800X CPU. Printed time values are not representative of wherever you are currently viewing this."
      ]
    },
    {
      "cell_type": "code",
      "execution_count": 21,
      "metadata": {
        "id": "XTF7FARsxHrt"
      },
      "outputs": [],
      "source": [
        "import pandas as pd\n",
        "import folium\n",
        "from folium import Map, Marker, PolyLine, features, RegularPolygonMarker, DivIcon\n",
        "from folium.plugins import PolyLineTextPath\n",
        "import math\n",
        "import networkx as nx\n",
        "import time\n",
        "import multiprocessing"
      ]
    },
    {
      "cell_type": "code",
      "execution_count": null,
      "metadata": {
        "id": "ycL1dI4OWqfj"
      },
      "outputs": [],
      "source": [
        "# 2.3.1\n",
        "\n",
        "nodes = pd.read_csv('tol403-lokaverkefni/data/nodes.tsv', sep = \"\\t\")\n",
        "edges = pd.read_csv('tol403-lokaverkefni/data/edges.tsv', sep = \"\\t\")\n",
        "\n",
        "charging_station_nodes = {323346405, 87120378, 2374444198, 1345740157, 2351742223}\n",
        "\n",
        "coords = {\n",
        "    row['osmid']: (row['y'], row['x'])  # Folium notar (lat, lon)\n",
        "    for _, row in nodes.iterrows()\n",
        "}\n",
        "\n",
        "# búum til graf með stefnu og þyngd fyrir edges\n",
        "G = nx.DiGraph()\n",
        "for _, row in edges.iterrows():\n",
        "    G.add_edge(row['u'], row['v'], weight=row['length'])\n",
        "\n",
        "## Need to reverse in some cases because it's directed\n",
        "G_rev = G.reverse()"
      ]
    },
    {
      "cell_type": "code",
      "execution_count": 29,
      "metadata": {
        "id": "kQ5UuoqKO6XN"
      },
      "outputs": [],
      "source": [
        "# 2.3.2\n",
        "\n",
        "def shortest_distance_to_charger(node_id, graph, charger_nodes):\n",
        "    min_distance = float('inf')\n",
        "    closest_station = None\n",
        "    for charger_id in charger_nodes:\n",
        "        try:\n",
        "            dist = nx.dijkstra_path_length(graph, source=node_id, target=charger_id, weight='weight')\n",
        "            if dist < min_distance:\n",
        "                min_distance = dist\n",
        "                closest_station = charger_id\n",
        "        except (nx.NetworkXNoPath, nx.NodeNotFound):\n",
        "            continue\n",
        "    return min_distance, closest_station"
      ]
    },
    {
      "cell_type": "code",
      "execution_count": 30,
      "metadata": {
        "colab": {
          "base_uri": "https://localhost:8080/"
        },
        "id": "SfNz_MbCcT1U",
        "outputId": "2b5c1130-0b22-488f-bbb7-bbf7926fe1a1"
      },
      "outputs": [
        {
          "name": "stdout",
          "output_type": "stream",
          "text": [
            "Keyrsla tók 26s\n",
            "Kort geymt i skra: kort_2_3_3.html\n"
          ]
        }
      ],
      "source": [
        "# 2.3.3\n",
        "\n",
        "def process_node_wrapper(args):\n",
        "    row, charger_nodes, graph, charger_only = args\n",
        "    node_id = row['osmid']\n",
        "    if node_id in charger_nodes:\n",
        "        color = \"orange\"\n",
        "        popup_text = f\"🔌 Hleðslustöð <br>Node ID: {node_id}\"\n",
        "    elif charger_only == False:\n",
        "        color = \"red\" if row['primary'] else \"blue\"\n",
        "        distance, closest = shortest_distance_to_charger(node_id, graph, charger_nodes)\n",
        "        popup_text = (f\"🚗 Node ID: {node_id}<br>Primary: {row['primary']}<br>\"\n",
        "                      f\"Fjarlægð frá næstu hleðslustöð: {distance:.2f} meters<br>\"\n",
        "                      f\"Næsta hleðslustöð: {closest}\")\n",
        "    else:\n",
        "        return None\n",
        "    \n",
        "    return {\n",
        "        'location': [row['y'], row['x']],\n",
        "        'color': color,\n",
        "        'popup_text': popup_text\n",
        "    }\n",
        "\n",
        "# keyrsla gæti tekið sirka 5-10 mín\n",
        "def create_map(charger_nodes, map_name, chargers_only = False):\n",
        "    center_lat = nodes['y'].mean()\n",
        "    center_lon = nodes['x'].mean()\n",
        "    m = folium.Map(location=[center_lat, center_lon], zoom_start=12)\n",
        "\n",
        "    start_time = time.time()\n",
        "\n",
        "    row_args = [\n",
        "        (row, charger_nodes, G, chargers_only)\n",
        "        for _, row in nodes.iterrows()\n",
        "    ]\n",
        "\n",
        "    # ryzen 7 go brrrr\n",
        "    with multiprocessing.Pool() as pool:\n",
        "        marker_data_list = pool.map(process_node_wrapper, row_args)\n",
        "\n",
        "    for md in marker_data_list:\n",
        "        if md is None:\n",
        "            continue\n",
        "        \n",
        "        folium.CircleMarker(\n",
        "            location=md['location'],\n",
        "            radius=4,\n",
        "            color=md['color'],\n",
        "            fill=True,\n",
        "            fill_color=md['color'],\n",
        "            fill_opacity=0.8,\n",
        "            popup=folium.Popup(md['popup_text'], max_width=250)\n",
        "        ).add_to(m)\n",
        "\n",
        "    print(f\"Keyrsla tók {int(time.time() - start_time)}s\")\n",
        "\n",
        "    for _, row in edges.iterrows():\n",
        "        if row['u'] in coords and row['v'] in coords:\n",
        "            start = coords[row['u']]\n",
        "            end = coords[row['v']]\n",
        "            PolyLine(\n",
        "                locations=[start, end],\n",
        "                color='gray',\n",
        "                weight=1,\n",
        "                opacity=0.5,\n",
        "                popup=row.get('name', '')\n",
        "            ).add_to(m)\n",
        "\n",
        "            # Reiknum gráðu á ör-iconinu og setjum svo á endann á línunni\n",
        "            # vantar að laga betur, gerir kortið mjög hægt líka.\n",
        "            \"\"\"angle = calculate_angle(start, end)\n",
        "            folium.map.Marker(\n",
        "                location=end,\n",
        "                icon=DivIcon(\n",
        "                    icon_size=(150, 36),\n",
        "                    icon_anchor=(7, 20),\n",
        "                    html=f'<div style=\"transform: rotate({angle}deg); color: gray; font-size: 16px;\">&#8594;</div>'\n",
        "                )\n",
        "            ).add_to(m)\"\"\"\n",
        "\n",
        "    m.save(map_name)\n",
        "    print(f\"Kort geymt i skra: {map_name}\")\n",
        "\n",
        "create_map(charging_station_nodes, \"kort_2_3_3.html\")"
      ]
    },
    {
      "cell_type": "code",
      "execution_count": 31,
      "metadata": {
        "id": "8_jX2v9ReTeB"
      },
      "outputs": [],
      "source": [
        "# 2.3.4\n",
        "\n",
        "## it's in the code above"
      ]
    },
    {
      "cell_type": "code",
      "execution_count": 32,
      "metadata": {
        "id": "NPSUIwKNj7a-"
      },
      "outputs": [
        {
          "name": "stdout",
          "output_type": "stream",
          "text": [
            "Keyrsla tók 19s\n"
          ]
        },
        {
          "data": {
            "text/plain": [
              "52496231.653249905"
            ]
          },
          "execution_count": 32,
          "metadata": {},
          "output_type": "execute_result"
        }
      ],
      "source": [
        "# 2.3.5\n",
        "\n",
        "## Heuristic for A*\n",
        "## Needlessly complicated on such a small scale\n",
        "## Calculate the distance between two points on the surface of a sphere\n",
        "## It's somewhat off up here since the Earth isn't a perfect sphere\n",
        "def calc_spherical_distance(node_id, target_id):\n",
        "    lat_source,lon_source = coords[node_id]\n",
        "    lat_target,lon_target = coords[target_id]\n",
        "\n",
        "    radius = 6373.0\n",
        "\n",
        "    delta_lat = math.radians(lat_target) - math.radians(lat_source)\n",
        "    delta_lon = math.radians(lon_target) - math.radians(lon_source)\n",
        "\n",
        "    a = math.sin(delta_lat / 2)**2 + math.cos(lat_source) * math.cos(lat_target) * math.sin(delta_lon / 2)**2\n",
        "    c = 2 * math.atan2(math.sqrt(a), math.sqrt(1 - a))\n",
        "\n",
        "    distance = radius * c * 1000 #metres\n",
        "\n",
        "    return distance\n",
        "\n",
        "def astar_distance_to_charger(node_id, graph, charger_nodes):\n",
        "    min_distance = float('inf')\n",
        "    closest_station = None\n",
        "    for charger_id in charger_nodes:\n",
        "        try:\n",
        "            dist = nx.astar_path_length(graph, source=node_id, target=charger_id, heuristic=calc_spherical_distance, weight='weight')\n",
        "            if dist < min_distance:\n",
        "                min_distance = dist\n",
        "                closest_station = charger_id\n",
        "        except (nx.NetworkXNoPath, nx.NodeNotFound):\n",
        "            continue\n",
        "    return min_distance, closest_station\n",
        "\n",
        "def process_astar_row(args):\n",
        "    row, charging_station_nodes, graph = args\n",
        "    node_id = row['osmid']\n",
        "\n",
        "    distance, closest = astar_distance_to_charger(node_id, graph, charging_station_nodes)\n",
        "    return distance if distance != float(\"inf\") else 0.0\n",
        "\n",
        "def run_astar(charging_station_nodes, benchmark):\n",
        "    distance_sum = 0.0\n",
        "    if benchmark:\n",
        "        start_time = time.time()\n",
        "\n",
        "    row_args = [(row, charging_station_nodes, G) for _, row in nodes.iterrows()]\n",
        "    \n",
        "    with multiprocessing.Pool() as pool:\n",
        "        distances = pool.map(process_astar_row, row_args)\n",
        "\n",
        "        distance_sum = sum(distances)\n",
        "\n",
        "    if benchmark:\n",
        "        print(f\"Keyrsla tók {int(time.time() - start_time)}s\")\n",
        "\n",
        "    return distance_sum\n",
        "\n",
        "run_astar(charging_station_nodes, True)"
      ]
    },
    {
      "cell_type": "code",
      "execution_count": 33,
      "metadata": {
        "id": "VIqY8tgWLIsF"
      },
      "outputs": [
        {
          "name": "stdout",
          "output_type": "stream",
          "text": [
            "Best node for k = 1 was osmid       34827739\n",
            "x         -21.845736\n",
            "y          64.114075\n",
            "primary         True\n",
            "Name: 589, dtype: object with a distance of 71813532.58901912\n"
          ]
        }
      ],
      "source": [
        "# 2.3.6\n",
        "\n",
        "def simple_dijkstra(charger_id):\n",
        "    distances = nx.single_source_dijkstra_path_length(G_rev, charger_id, weight='weight')\n",
        "    distance_sum = sum(distances.values())\n",
        "\n",
        "    return distance_sum\n",
        "\n",
        "def multi_dijkstra(candidate_charger_id: int, placed_charger_ids: set):\n",
        "    chargers = placed_charger_ids.copy()\n",
        "    chargers.add(candidate_charger_id)\n",
        "    distances = nx.multi_source_dijkstra_path_length(G_rev, chargers, weight=\"weight\")\n",
        "    distance_sum = sum(distances.values())\n",
        "\n",
        "    return distance_sum\n",
        "\n",
        "def compute_distance(node, used_nodes):\n",
        "    distance = multi_dijkstra(node.osmid, used_nodes)\n",
        "    return node, distance\n",
        "\n",
        "def place_optimal_charger(candidates, used_nodes):\n",
        "    best_distance = float(\"inf\")\n",
        "    best_node = None\n",
        "\n",
        "    with multiprocessing.Pool() as pool:\n",
        "        results = pool.starmap(compute_distance, [(node, used_nodes) for node in candidates])\n",
        "\n",
        "    for node, distance in results:\n",
        "        if 0 < distance < best_distance:\n",
        "            best_distance = distance\n",
        "            best_node = node\n",
        "\n",
        "    return best_node, best_distance\n",
        "\n",
        "primary_nodes = []\n",
        "for _, row in nodes.iterrows():\n",
        "    if row['primary'] == True:\n",
        "        primary_nodes.append(row)\n",
        "\n",
        "optimal_node, distance = place_optimal_charger(primary_nodes[:], set())\n",
        "print(f\"Best node for k = 1 was {optimal_node} with a distance of {distance}\")"
      ]
    },
    {
      "cell_type": "code",
      "execution_count": 34,
      "metadata": {
        "colab": {
          "base_uri": "https://localhost:8080/"
        },
        "id": "XISWWLnQ1fbE",
        "outputId": "ca9b404c-a647-4565-b673-97335dad9200"
      },
      "outputs": [
        {
          "name": "stdout",
          "output_type": "stream",
          "text": [
            "Keyrsla tók 29s\n",
            "Cumulative distance was 24909868.79067309\n",
            "Keyrsla tók 2s\n",
            "Kort geymt i skra: kort_2_3_7.html\n"
          ]
        }
      ],
      "source": [
        "# 2.3.7\n",
        "\n",
        "## Always add the new best node. Obviously have to remove the previously best node\n",
        "def greedy_k_chargers(candidates, max_iterations, used_nodes):\n",
        "    best_nodes = []\n",
        "    total_distance = 0.0\n",
        "\n",
        "    # If we already used some nodes, don't include them here\n",
        "    for n in used_nodes:\n",
        "        candidates[:] = [node for node in candidates if not node.equals(n)]\n",
        "\n",
        "    start_time = time.time()\n",
        "    for k in range(max_iterations):\n",
        "        best_node, dist = place_optimal_charger(candidates, used_nodes)\n",
        "        total_distance = dist\n",
        "        best_nodes.append(best_node)\n",
        "        used_nodes.add(best_node.osmid)\n",
        "        # Python is awful btw\n",
        "        candidates[:] = [node for node in candidates if not node.equals(best_node)]\n",
        "\n",
        "    print(f\"Keyrsla tók {int(time.time() - start_time)}s\")\n",
        "    return best_nodes, total_distance\n",
        "\n",
        "greedy_nodes, greedy_dist = greedy_k_chargers(primary_nodes[:], 10, set())\n",
        "print(f\"Cumulative distance was {greedy_dist}\")\n",
        "create_map([node.osmid for node in greedy_nodes], \"kort_2_3_7.html\", True)"
      ]
    },
    {
      "cell_type": "code",
      "execution_count": 42,
      "metadata": {
        "colab": {
          "base_uri": "https://localhost:8080/"
        },
        "id": "MAZUUWjaUduT",
        "outputId": "a4d675d0-36a6-41a4-d15a-6b81bd5925db"
      },
      "outputs": [
        {
          "name": "stdout",
          "output_type": "stream",
          "text": [
            "Starting from random node 1963074126\n"
          ]
        },
        {
          "ename": "KeyboardInterrupt",
          "evalue": "",
          "output_type": "error",
          "traceback": [
            "\u001b[31m---------------------------------------------------------------------------\u001b[39m",
            "\u001b[31mKeyboardInterrupt\u001b[39m                         Traceback (most recent call last)",
            "\u001b[36mCell\u001b[39m\u001b[36m \u001b[39m\u001b[32mIn[42]\u001b[39m\u001b[32m, line 97\u001b[39m\n\u001b[32m     93\u001b[39m     \u001b[38;5;28mprint\u001b[39m(\u001b[33mf\u001b[39m\u001b[33m\"\u001b[39m\u001b[33mKeyrsla tók \u001b[39m\u001b[38;5;132;01m{\u001b[39;00m\u001b[38;5;28mint\u001b[39m(end_time)\u001b[38;5;132;01m}\u001b[39;00m\u001b[33ms, avg \u001b[39m\u001b[38;5;132;01m{\u001b[39;00m\u001b[38;5;28mint\u001b[39m(end_time\u001b[38;5;250m \u001b[39m/\u001b[38;5;250m \u001b[39m\u001b[32m5\u001b[39m)\u001b[38;5;132;01m}\u001b[39;00m\u001b[33m\"\u001b[39m)\n\u001b[32m     95\u001b[39m     \u001b[38;5;28;01mreturn\u001b[39;00m best_nodes, best_distance\n\u001b[32m---> \u001b[39m\u001b[32m97\u001b[39m best_greedy_nodes, best_greedy_dist = \u001b[43mget_best_results\u001b[49m\u001b[43m(\u001b[49m\u001b[43m)\u001b[49m\n\u001b[32m     98\u001b[39m \u001b[38;5;28mprint\u001b[39m(\u001b[33mf\u001b[39m\u001b[33m\"\u001b[39m\u001b[33mCumulative distance was \u001b[39m\u001b[38;5;132;01m{\u001b[39;00mbest_greedy_dist\u001b[38;5;132;01m}\u001b[39;00m\u001b[33m\"\u001b[39m)\n\u001b[32m     99\u001b[39m create_map(best_greedy_nodes, \u001b[33m\"\u001b[39m\u001b[33mkort_2_3_8.html\u001b[39m\u001b[33m\"\u001b[39m, \u001b[38;5;28;01mTrue\u001b[39;00m)\n",
            "\u001b[36mCell\u001b[39m\u001b[36m \u001b[39m\u001b[32mIn[42]\u001b[39m\u001b[32m, line 86\u001b[39m, in \u001b[36mget_best_results\u001b[39m\u001b[34m()\u001b[39m\n\u001b[32m     82\u001b[39m start_time = time.time()\n\u001b[32m     84\u001b[39m \u001b[38;5;28;01mfor\u001b[39;00m _ \u001b[38;5;129;01min\u001b[39;00m \u001b[38;5;28mrange\u001b[39m(\u001b[32m5\u001b[39m):\n\u001b[32m     85\u001b[39m     \u001b[38;5;66;03m# 10th node is picked randomly at the start\u001b[39;00m\n\u001b[32m---> \u001b[39m\u001b[32m86\u001b[39m     better_greedy_nodes, better_greedy_dist = \u001b[43mbetter_greedy_k\u001b[49m\u001b[43m(\u001b[49m\u001b[32;43m9\u001b[39;49m\u001b[43m)\u001b[49m\n\u001b[32m     87\u001b[39m     \u001b[38;5;28;01mif\u001b[39;00m better_greedy_dist < best_distance:\n\u001b[32m     88\u001b[39m         \u001b[38;5;28mprint\u001b[39m(\u001b[33mf\u001b[39m\u001b[33m\"\u001b[39m\u001b[33mNew best result of \u001b[39m\u001b[38;5;132;01m{\u001b[39;00mbetter_greedy_dist\u001b[38;5;132;01m}\u001b[39;00m\u001b[33m\"\u001b[39m)\n",
            "\u001b[36mCell\u001b[39m\u001b[36m \u001b[39m\u001b[32mIn[42]\u001b[39m\u001b[32m, line 13\u001b[39m, in \u001b[36mbetter_greedy_k\u001b[39m\u001b[34m(max_depth)\u001b[39m\n\u001b[32m     11\u001b[39m starting_node = nodes.sample(n=\u001b[32m1\u001b[39m).iloc[\u001b[32m0\u001b[39m][\u001b[33m'\u001b[39m\u001b[33mosmid\u001b[39m\u001b[33m'\u001b[39m]\n\u001b[32m     12\u001b[39m \u001b[38;5;28mprint\u001b[39m(\u001b[33mf\u001b[39m\u001b[33m\"\u001b[39m\u001b[33mStarting from random node \u001b[39m\u001b[38;5;132;01m{\u001b[39;00mstarting_node\u001b[38;5;132;01m}\u001b[39;00m\u001b[33m\"\u001b[39m)\n\u001b[32m---> \u001b[39m\u001b[32m13\u001b[39m chain, total_distance = \u001b[43mrecursive_search\u001b[49m\u001b[43m(\u001b[49m\u001b[43m{\u001b[49m\u001b[38;5;28;43mint\u001b[39;49m\u001b[43m(\u001b[49m\u001b[43mstarting_node\u001b[49m\u001b[43m)\u001b[49m\u001b[43m}\u001b[49m\u001b[43m,\u001b[49m\u001b[43m \u001b[49m\u001b[43mmax_depth\u001b[49m\u001b[43m)\u001b[49m\n\u001b[32m     14\u001b[39m chain = [starting_node] + chain\n\u001b[32m     15\u001b[39m \u001b[38;5;28;01mreturn\u001b[39;00m chain, total_distance\n",
            "\u001b[36mCell\u001b[39m\u001b[36m \u001b[39m\u001b[32mIn[42]\u001b[39m\u001b[32m, line 32\u001b[39m, in \u001b[36mrecursive_search\u001b[39m\u001b[34m(used_nodes, depth)\u001b[39m\n\u001b[32m     29\u001b[39m new_used_second = used_nodes.copy()\n\u001b[32m     30\u001b[39m new_used_second.add(second_candidate.osmid)\n\u001b[32m---> \u001b[39m\u001b[32m32\u001b[39m chain_best, _ = \u001b[43mrecursive_search\u001b[49m\u001b[43m(\u001b[49m\u001b[43mnew_used_best\u001b[49m\u001b[43m,\u001b[49m\u001b[43m \u001b[49m\u001b[43mdepth\u001b[49m\u001b[43m \u001b[49m\u001b[43m-\u001b[49m\u001b[43m \u001b[49m\u001b[32;43m1\u001b[39;49m\u001b[43m)\u001b[49m\n\u001b[32m     33\u001b[39m chain_second, _ = recursive_search(new_used_second, depth - \u001b[32m1\u001b[39m)\n\u001b[32m     35\u001b[39m \u001b[38;5;28;01mif\u001b[39;00m cost_best_edge < cost_second_edge:\n",
            "\u001b[36mCell\u001b[39m\u001b[36m \u001b[39m\u001b[32mIn[42]\u001b[39m\u001b[32m, line 32\u001b[39m, in \u001b[36mrecursive_search\u001b[39m\u001b[34m(used_nodes, depth)\u001b[39m\n\u001b[32m     29\u001b[39m new_used_second = used_nodes.copy()\n\u001b[32m     30\u001b[39m new_used_second.add(second_candidate.osmid)\n\u001b[32m---> \u001b[39m\u001b[32m32\u001b[39m chain_best, _ = \u001b[43mrecursive_search\u001b[49m\u001b[43m(\u001b[49m\u001b[43mnew_used_best\u001b[49m\u001b[43m,\u001b[49m\u001b[43m \u001b[49m\u001b[43mdepth\u001b[49m\u001b[43m \u001b[49m\u001b[43m-\u001b[49m\u001b[43m \u001b[49m\u001b[32;43m1\u001b[39;49m\u001b[43m)\u001b[49m\n\u001b[32m     33\u001b[39m chain_second, _ = recursive_search(new_used_second, depth - \u001b[32m1\u001b[39m)\n\u001b[32m     35\u001b[39m \u001b[38;5;28;01mif\u001b[39;00m cost_best_edge < cost_second_edge:\n",
            "\u001b[36mCell\u001b[39m\u001b[36m \u001b[39m\u001b[32mIn[42]\u001b[39m\u001b[32m, line 21\u001b[39m, in \u001b[36mrecursive_search\u001b[39m\u001b[34m(used_nodes, depth)\u001b[39m\n\u001b[32m     18\u001b[39m \u001b[38;5;28;01mif\u001b[39;00m depth == \u001b[32m0\u001b[39m:\n\u001b[32m     19\u001b[39m     \u001b[38;5;28;01mreturn\u001b[39;00m [], \u001b[32m0\u001b[39m\n\u001b[32m---> \u001b[39m\u001b[32m21\u001b[39m best_candidate, second_candidate = \u001b[43mpick_2\u001b[49m\u001b[43m(\u001b[49m\u001b[43mused_nodes\u001b[49m\u001b[43m)\u001b[49m\n\u001b[32m     23\u001b[39m cost_best_edge = multi_dijkstra(best_candidate.osmid, used_nodes)\n\u001b[32m     24\u001b[39m cost_second_edge = multi_dijkstra(second_candidate.osmid, used_nodes)\n",
            "\u001b[36mCell\u001b[39m\u001b[36m \u001b[39m\u001b[32mIn[42]\u001b[39m\u001b[32m, line 42\u001b[39m, in \u001b[36mpick_2\u001b[39m\u001b[34m(used_nodes)\u001b[39m\n\u001b[32m     40\u001b[39m \u001b[38;5;28;01mdef\u001b[39;00m\u001b[38;5;250m \u001b[39m\u001b[34mpick_2\u001b[39m(used_nodes):\n\u001b[32m     41\u001b[39m     \u001b[38;5;66;03m# Pick top 5 nodes\u001b[39;00m\n\u001b[32m---> \u001b[39m\u001b[32m42\u001b[39m     chargers = \u001b[43mtop_5_candidates\u001b[49m\u001b[43m(\u001b[49m\u001b[43mprimary_nodes\u001b[49m\u001b[43m[\u001b[49m\u001b[43m:\u001b[49m\u001b[43m]\u001b[49m\u001b[43m,\u001b[49m\u001b[43m \u001b[49m\u001b[43mused_nodes\u001b[49m\u001b[43m)\u001b[49m\n\u001b[32m     43\u001b[39m     \u001b[38;5;66;03m# First charger\u001b[39;00m\n\u001b[32m     44\u001b[39m     best_charger = chargers.pop(\u001b[32m0\u001b[39m)\n",
            "\u001b[36mCell\u001b[39m\u001b[36m \u001b[39m\u001b[32mIn[42]\u001b[39m\u001b[32m, line 65\u001b[39m, in \u001b[36mtop_5_candidates\u001b[39m\u001b[34m(candidates, used_nodes)\u001b[39m\n\u001b[32m     62\u001b[39m     candidates[:] = [node \u001b[38;5;28;01mfor\u001b[39;00m node \u001b[38;5;129;01min\u001b[39;00m candidates \u001b[38;5;28;01mif\u001b[39;00m \u001b[38;5;129;01mnot\u001b[39;00m node.equals(n)]\n\u001b[32m     64\u001b[39m \u001b[38;5;28;01mwith\u001b[39;00m multiprocessing.Pool() \u001b[38;5;28;01mas\u001b[39;00m pool:\n\u001b[32m---> \u001b[39m\u001b[32m65\u001b[39m     results = \u001b[43mpool\u001b[49m\u001b[43m.\u001b[49m\u001b[43mstarmap\u001b[49m\u001b[43m(\u001b[49m\u001b[43mcompute_distance_loc\u001b[49m\u001b[43m,\u001b[49m\u001b[43m \u001b[49m\u001b[43m[\u001b[49m\u001b[43m(\u001b[49m\u001b[43mnode\u001b[49m\u001b[43m,\u001b[49m\u001b[43m \u001b[49m\u001b[43mused_nodes\u001b[49m\u001b[43m)\u001b[49m\u001b[43m \u001b[49m\u001b[38;5;28;43;01mfor\u001b[39;49;00m\u001b[43m \u001b[49m\u001b[43mnode\u001b[49m\u001b[43m \u001b[49m\u001b[38;5;129;43;01min\u001b[39;49;00m\u001b[43m \u001b[49m\u001b[43mcandidates\u001b[49m\u001b[43m]\u001b[49m\u001b[43m)\u001b[49m\n\u001b[32m     67\u001b[39m results.sort(key=\u001b[38;5;28;01mlambda\u001b[39;00m x: x[\u001b[32m1\u001b[39m])\n\u001b[32m     68\u001b[39m top_five = results[:\u001b[32m5\u001b[39m]\n",
            "\u001b[36mFile \u001b[39m\u001b[32m/usr/lib/python3.13/multiprocessing/pool.py:375\u001b[39m, in \u001b[36mPool.starmap\u001b[39m\u001b[34m(self, func, iterable, chunksize)\u001b[39m\n\u001b[32m    369\u001b[39m \u001b[38;5;28;01mdef\u001b[39;00m\u001b[38;5;250m \u001b[39m\u001b[34mstarmap\u001b[39m(\u001b[38;5;28mself\u001b[39m, func, iterable, chunksize=\u001b[38;5;28;01mNone\u001b[39;00m):\n\u001b[32m    370\u001b[39m \u001b[38;5;250m    \u001b[39m\u001b[33;03m'''\u001b[39;00m\n\u001b[32m    371\u001b[39m \u001b[33;03m    Like `map()` method but the elements of the `iterable` are expected to\u001b[39;00m\n\u001b[32m    372\u001b[39m \u001b[33;03m    be iterables as well and will be unpacked as arguments. Hence\u001b[39;00m\n\u001b[32m    373\u001b[39m \u001b[33;03m    `func` and (a, b) becomes func(a, b).\u001b[39;00m\n\u001b[32m    374\u001b[39m \u001b[33;03m    '''\u001b[39;00m\n\u001b[32m--> \u001b[39m\u001b[32m375\u001b[39m     \u001b[38;5;28;01mreturn\u001b[39;00m \u001b[38;5;28;43mself\u001b[39;49m\u001b[43m.\u001b[49m\u001b[43m_map_async\u001b[49m\u001b[43m(\u001b[49m\u001b[43mfunc\u001b[49m\u001b[43m,\u001b[49m\u001b[43m \u001b[49m\u001b[43miterable\u001b[49m\u001b[43m,\u001b[49m\u001b[43m \u001b[49m\u001b[43mstarmapstar\u001b[49m\u001b[43m,\u001b[49m\u001b[43m \u001b[49m\u001b[43mchunksize\u001b[49m\u001b[43m)\u001b[49m\u001b[43m.\u001b[49m\u001b[43mget\u001b[49m\u001b[43m(\u001b[49m\u001b[43m)\u001b[49m\n",
            "\u001b[36mFile \u001b[39m\u001b[32m/usr/lib/python3.13/multiprocessing/pool.py:768\u001b[39m, in \u001b[36mApplyResult.get\u001b[39m\u001b[34m(self, timeout)\u001b[39m\n\u001b[32m    767\u001b[39m \u001b[38;5;28;01mdef\u001b[39;00m\u001b[38;5;250m \u001b[39m\u001b[34mget\u001b[39m(\u001b[38;5;28mself\u001b[39m, timeout=\u001b[38;5;28;01mNone\u001b[39;00m):\n\u001b[32m--> \u001b[39m\u001b[32m768\u001b[39m     \u001b[38;5;28;43mself\u001b[39;49m\u001b[43m.\u001b[49m\u001b[43mwait\u001b[49m\u001b[43m(\u001b[49m\u001b[43mtimeout\u001b[49m\u001b[43m)\u001b[49m\n\u001b[32m    769\u001b[39m     \u001b[38;5;28;01mif\u001b[39;00m \u001b[38;5;129;01mnot\u001b[39;00m \u001b[38;5;28mself\u001b[39m.ready():\n\u001b[32m    770\u001b[39m         \u001b[38;5;28;01mraise\u001b[39;00m \u001b[38;5;167;01mTimeoutError\u001b[39;00m\n",
            "\u001b[36mFile \u001b[39m\u001b[32m/usr/lib/python3.13/multiprocessing/pool.py:765\u001b[39m, in \u001b[36mApplyResult.wait\u001b[39m\u001b[34m(self, timeout)\u001b[39m\n\u001b[32m    764\u001b[39m \u001b[38;5;28;01mdef\u001b[39;00m\u001b[38;5;250m \u001b[39m\u001b[34mwait\u001b[39m(\u001b[38;5;28mself\u001b[39m, timeout=\u001b[38;5;28;01mNone\u001b[39;00m):\n\u001b[32m--> \u001b[39m\u001b[32m765\u001b[39m     \u001b[38;5;28;43mself\u001b[39;49m\u001b[43m.\u001b[49m\u001b[43m_event\u001b[49m\u001b[43m.\u001b[49m\u001b[43mwait\u001b[49m\u001b[43m(\u001b[49m\u001b[43mtimeout\u001b[49m\u001b[43m)\u001b[49m\n",
            "\u001b[36mFile \u001b[39m\u001b[32m/usr/lib/python3.13/threading.py:659\u001b[39m, in \u001b[36mEvent.wait\u001b[39m\u001b[34m(self, timeout)\u001b[39m\n\u001b[32m    657\u001b[39m signaled = \u001b[38;5;28mself\u001b[39m._flag\n\u001b[32m    658\u001b[39m \u001b[38;5;28;01mif\u001b[39;00m \u001b[38;5;129;01mnot\u001b[39;00m signaled:\n\u001b[32m--> \u001b[39m\u001b[32m659\u001b[39m     signaled = \u001b[38;5;28;43mself\u001b[39;49m\u001b[43m.\u001b[49m\u001b[43m_cond\u001b[49m\u001b[43m.\u001b[49m\u001b[43mwait\u001b[49m\u001b[43m(\u001b[49m\u001b[43mtimeout\u001b[49m\u001b[43m)\u001b[49m\n\u001b[32m    660\u001b[39m \u001b[38;5;28;01mreturn\u001b[39;00m signaled\n",
            "\u001b[36mFile \u001b[39m\u001b[32m/usr/lib/python3.13/threading.py:359\u001b[39m, in \u001b[36mCondition.wait\u001b[39m\u001b[34m(self, timeout)\u001b[39m\n\u001b[32m    357\u001b[39m \u001b[38;5;28;01mtry\u001b[39;00m:    \u001b[38;5;66;03m# restore state no matter what (e.g., KeyboardInterrupt)\u001b[39;00m\n\u001b[32m    358\u001b[39m     \u001b[38;5;28;01mif\u001b[39;00m timeout \u001b[38;5;129;01mis\u001b[39;00m \u001b[38;5;28;01mNone\u001b[39;00m:\n\u001b[32m--> \u001b[39m\u001b[32m359\u001b[39m         \u001b[43mwaiter\u001b[49m\u001b[43m.\u001b[49m\u001b[43macquire\u001b[49m\u001b[43m(\u001b[49m\u001b[43m)\u001b[49m\n\u001b[32m    360\u001b[39m         gotit = \u001b[38;5;28;01mTrue\u001b[39;00m\n\u001b[32m    361\u001b[39m     \u001b[38;5;28;01melse\u001b[39;00m:\n",
            "\u001b[31mKeyboardInterrupt\u001b[39m: "
          ]
        }
      ],
      "source": [
        "# 2.3.8\n",
        "\n",
        "## Pick random starting node\n",
        "### Run greedy K for 5 nodes\n",
        "#### Pick best node, then choose the furthest of the remaining 4 as the second best\n",
        "##### Recurse\n",
        "###### Pick solution with smallest distance at the end\n",
        "\n",
        "def better_greedy_k(max_depth):\n",
        "    # Choose a random starting node\n",
        "    starting_node = nodes.sample(n=1).iloc[0]['osmid']\n",
        "    print(f\"Starting from random node {starting_node}\")\n",
        "    chain, total_distance = recursive_search({int(starting_node)}, max_depth)\n",
        "    chain = [starting_node] + chain\n",
        "    return chain, total_distance\n",
        "\n",
        "def recursive_search(used_nodes: set, depth):\n",
        "    if depth == 0:\n",
        "        return [], 0\n",
        "\n",
        "    best_candidate, second_candidate = pick_2(used_nodes)\n",
        "\n",
        "    cost_best_edge = multi_dijkstra(best_candidate.osmid, used_nodes)\n",
        "    cost_second_edge = multi_dijkstra(second_candidate.osmid, used_nodes)\n",
        "\n",
        "    new_used_best = used_nodes.copy()\n",
        "    new_used_best.add(best_candidate.osmid)\n",
        "\n",
        "    new_used_second = used_nodes.copy()\n",
        "    new_used_second.add(second_candidate.osmid)\n",
        "\n",
        "    chain_best, _ = recursive_search(new_used_best, depth - 1)\n",
        "    chain_second, _ = recursive_search(new_used_second, depth - 1)\n",
        "\n",
        "    if cost_best_edge < cost_second_edge:\n",
        "        return [int(best_candidate.osmid)] + chain_best, cost_best_edge\n",
        "    else:\n",
        "        return [int(second_candidate.osmid)] + chain_second, cost_second_edge\n",
        "    \n",
        "def pick_2(used_nodes):\n",
        "    # Pick top 5 nodes\n",
        "    chargers = top_5_candidates(primary_nodes[:], used_nodes)\n",
        "    # First charger\n",
        "    best_charger = chargers.pop(0)\n",
        "    second_best = None\n",
        "\n",
        "    max_distance = 0.0\n",
        "\n",
        "    # Pick charger futhest from the best\n",
        "    for k in chargers:\n",
        "        dist = calc_spherical_distance(k.osmid, best_charger.osmid)\n",
        "        if dist > max_distance:\n",
        "            max_distance = dist\n",
        "            second_best = k\n",
        "\n",
        "    return best_charger, second_best\n",
        "\n",
        "def top_5_candidates(candidates, used_nodes):\n",
        "    best_nodes = []\n",
        "    # If we already used some nodes, don't include them here\n",
        "    for n in used_nodes:\n",
        "        candidates[:] = [node for node in candidates if not node.equals(n)]\n",
        "\n",
        "    with multiprocessing.Pool() as pool:\n",
        "        results = pool.starmap(compute_distance_loc, [(node, used_nodes) for node in candidates])\n",
        "\n",
        "    results.sort(key=lambda x: x[1])\n",
        "    top_five = results[:5]\n",
        "\n",
        "    best_nodes.extend([node for node, _ in top_five])\n",
        "\n",
        "    return best_nodes\n",
        "\n",
        "def compute_distance_loc(node, used_nodes):\n",
        "    distance = multi_dijkstra(node.osmid, used_nodes)\n",
        "    return node, distance\n",
        "\n",
        "def get_best_results():\n",
        "    best_distance = float(\"inf\")\n",
        "    best_nodes = []\n",
        "\n",
        "    start_time = time.time()\n",
        "\n",
        "    for _ in range(5):\n",
        "        # 10th node is picked randomly at the start\n",
        "        better_greedy_nodes, better_greedy_dist = better_greedy_k(9)\n",
        "        if better_greedy_dist < best_distance:\n",
        "            print(f\"New best result of {better_greedy_dist}\")\n",
        "            best_distance = better_greedy_dist\n",
        "            best_nodes = better_greedy_nodes\n",
        "\n",
        "    end_time = time.time() - start_time\n",
        "    print(f\"Keyrsla tók {int(end_time)}s, avg {int(end_time / 5)}\")\n",
        "\n",
        "    return best_nodes, best_distance\n",
        "\n",
        "best_greedy_nodes, best_greedy_dist = get_best_results()\n",
        "print(f\"Cumulative distance was {best_greedy_dist}\")\n",
        "create_map(best_greedy_nodes, \"kort_2_3_8.html\", True)"
      ]
    },
    {
      "cell_type": "code",
      "execution_count": 41,
      "metadata": {},
      "outputs": [
        {
          "name": "stdout",
          "output_type": "stream",
          "text": [
            "Greedy algorithm picked 34827739, 4159611763, 470316424, 1204996745, 470320635, 253702373, 2948755314, 62975525, 252165232, 251765347, with a cumulative distance of 24909868.79067309\n",
            "Improved algorithm picked [np.int64(1208295796), 2956073666], with a cumulative distance of 56058521.96119627\n"
          ]
        }
      ],
      "source": [
        "print(f\"Greedy algorithm picked {', '.join(str(node.osmid) for node in greedy_nodes)}, with a cumulative distance of {greedy_dist}\")\n",
        "print(f\"Improved algorithm picked {best_greedy_nodes}, with a cumulative distance of {best_greedy_dist}\")"
      ]
    }
  ],
  "metadata": {
    "colab": {
      "include_colab_link": true,
      "provenance": []
    },
    "kernelspec": {
      "display_name": ".venv",
      "language": "python",
      "name": "python3"
    },
    "language_info": {
      "codemirror_mode": {
        "name": "ipython",
        "version": 3
      },
      "file_extension": ".py",
      "mimetype": "text/x-python",
      "name": "python",
      "nbconvert_exporter": "python",
      "pygments_lexer": "ipython3",
      "version": "3.13.3"
    }
  },
  "nbformat": 4,
  "nbformat_minor": 0
}

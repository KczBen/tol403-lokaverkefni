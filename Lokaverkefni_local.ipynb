{
  "cells": [
    {
      "cell_type": "markdown",
      "metadata": {
        "colab_type": "text",
        "id": "view-in-github"
      },
      "source": [
        "<a href=\"https://colab.research.google.com/github/KczBen/tol403-lokaverkefni/blob/main/Lokaverkefni.ipynb\" target=\"_parent\"><img src=\"https://colab.research.google.com/assets/colab-badge.svg\" alt=\"Open In Colab\"/></a>"
      ]
    },
    {
      "cell_type": "code",
      "execution_count": null,
      "metadata": {
        "colab": {
          "base_uri": "https://localhost:8080/"
        },
        "collapsed": true,
        "id": "CRNCAoXgqBky",
        "outputId": "60250896-55dc-4d9f-a0ed-f6abd681116d"
      },
      "outputs": [],
      "source": [
        "# Clone repo data into environment\n",
        "# !git clone https://github.com/KczBen/tol403-lokaverkefni.git"
      ]
    },
    {
      "cell_type": "code",
      "execution_count": null,
      "metadata": {
        "id": "XTF7FARsxHrt"
      },
      "outputs": [],
      "source": [
        "import pandas as pd\n",
        "import folium\n",
        "from folium import Map, Marker, PolyLine, features, RegularPolygonMarker, DivIcon\n",
        "from folium.plugins import PolyLineTextPath\n",
        "import math\n",
        "import networkx as nx\n",
        "import time"
      ]
    },
    {
      "cell_type": "code",
      "execution_count": null,
      "metadata": {
        "id": "ycL1dI4OWqfj"
      },
      "outputs": [],
      "source": [
        "# 2.3.1\n",
        "\n",
        "nodes = pd.read_csv('data/nodes.tsv', sep = \"\\t\")\n",
        "edges = pd.read_csv('data/edges.tsv', sep = \"\\t\")\n",
        "\n",
        "charging_station_nodes = {323346405, 87120378, 2374444198, 1345740157, 2351742223}\n",
        "\n",
        "coords = {\n",
        "    row['osmid']: (row['y'], row['x'])  # Folium notar (lat, lon)\n",
        "    for _, row in nodes.iterrows()\n",
        "}\n",
        "\n",
        "# búum til graf með stefnu og þyngd fyrir edges\n",
        "G = nx.DiGraph()\n",
        "for _, row in edges.iterrows():\n",
        "    G.add_edge(row['u'], row['v'], weight=row['length'])\n",
        "\n",
        "\n",
        "## Need to reverse because it's a directed graph\n",
        "G_rev = G.reverse()"
      ]
    },
    {
      "cell_type": "code",
      "execution_count": null,
      "metadata": {
        "id": "kQ5UuoqKO6XN"
      },
      "outputs": [],
      "source": [
        "# 2.3.2\n",
        "def shortest_distance_to_charger(node_id, graph, charger_nodes):\n",
        "    min_distance = float('inf')\n",
        "    closest_station = None\n",
        "    for charger_id in charger_nodes:\n",
        "        try:\n",
        "            dist = nx.dijkstra_path_length(graph, source=node_id, target=charger_id, weight='weight')\n",
        "            if dist < min_distance:\n",
        "                min_distance = dist\n",
        "                closest_station = charger_id\n",
        "        except (nx.NetworkXNoPath, nx.NodeNotFound):\n",
        "            continue\n",
        "    return min_distance, closest_station"
      ]
    },
    {
      "cell_type": "code",
      "execution_count": null,
      "metadata": {
        "colab": {
          "base_uri": "https://localhost:8080/"
        },
        "id": "SfNz_MbCcT1U",
        "outputId": "a9f462e8-9daf-4724-fb1b-7386a449d81d"
      },
      "outputs": [],
      "source": [
        "# 2.3.3\n",
        "\n",
        "def create_map():\n",
        "    # Búum til base map með miðju í average location.\n",
        "    center_lat = nodes['y'].mean()\n",
        "    center_lon = nodes['x'].mean()\n",
        "    m = folium.Map(location = [center_lat, center_lon], zoom_start= 12)\n",
        "\n",
        "    # reiknum gráður fyrir örina sjálfa\n",
        "    def calculate_angle(start, end):\n",
        "        dy = end[0] - start[0]\n",
        "        dx = end[1] - start[1]\n",
        "        angle = math.degrees(math.atan2(dy, dx))\n",
        "        return angle\n",
        "\n",
        "    start_time = time.time()\n",
        "\n",
        "    # setjum nodes á kortið - blátt=nonprimary rautt=primary og appelsínugult= hleðslustöð.\n",
        "    for _, row in nodes.iterrows():\n",
        "        node_id = row['osmid']\n",
        "\n",
        "        # Decide color and popup content\n",
        "        if node_id in charging_station_nodes:\n",
        "            color = \"orange\"\n",
        "            popup_text = f\"🔌 Hleðslustöð <br>Node ID: {node_id}\"\n",
        "        else:\n",
        "            color = \"red\" if row['primary'] else \"blue\"\n",
        "            distance, closest = shortest_distance_to_charger(node_id, G_rev, charging_station_nodes)\n",
        "            popup_text = f\"🚗 Node ID: {node_id}<br>Primary: {row['primary']}<br>\" \\\n",
        "                        f\"Fjarlægð frá næstu hleðslustöð: {distance:.2f} meters<br>Næsta hleðslustöð: {closest}\"\n",
        "\n",
        "        folium.CircleMarker(\n",
        "            location=[row['y'], row['x']],\n",
        "            radius=4,\n",
        "            color=color,\n",
        "            fill=True,\n",
        "            fill_color=color,\n",
        "            fill_opacity=0.8,\n",
        "            popup=folium.Popup(popup_text, max_width=250)\n",
        "        ).add_to(m)\n",
        "\n",
        "    print(f\"Keyrsla tók {int(time.time() - start_time)}s\")\n",
        "\n",
        "    # setjum edges með stefnu á kortið\n",
        "    for _, row in edges.iterrows():\n",
        "        if row['u'] in coords and row['v'] in coords:\n",
        "            start = coords[row['u']]\n",
        "            end = coords[row['v']]\n",
        "\n",
        "            # línan\n",
        "            PolyLine(\n",
        "                locations=[start, end],\n",
        "                color='gray',\n",
        "                weight=1,\n",
        "                opacity=0.5,\n",
        "                popup=row.get('name', '')\n",
        "            ).add_to(m)\n",
        "\n",
        "            # Reiknum gráðu á ör-iconinu og setjum svo á endann á línunni\n",
        "            # vantar að laga betur, gerir kortið mjög hægt líka.\n",
        "            \"\"\"angle = calculate_angle(start, end)\n",
        "            folium.map.Marker(\n",
        "                location=end,\n",
        "                icon=DivIcon(\n",
        "                    icon_size=(150, 36),\n",
        "                    icon_anchor=(7, 20),\n",
        "                    html=f'<div style=\"transform: rotate({angle}deg); color: gray; font-size: 16px;\">&#8594;</div>'\n",
        "                )\n",
        "            ).add_to(m)\"\"\"\n",
        "\n",
        "\n",
        "    output_file = \"kort.html\"\n",
        "    m.save(output_file)\n",
        "    print(f\"Kort geymt i skra: {output_file}\")\n",
        "\n",
        "start_time = 0\n",
        "run_time = 0\n",
        "\n",
        "create_map()"
      ]
    },
    {
      "cell_type": "code",
      "execution_count": null,
      "metadata": {
        "id": "8_jX2v9ReTeB"
      },
      "outputs": [],
      "source": [
        "# 2.3.4\n",
        "\n",
        "## it's in the code above"
      ]
    },
    {
      "cell_type": "code",
      "execution_count": null,
      "metadata": {
        "colab": {
          "base_uri": "https://localhost:8080/"
        },
        "id": "NPSUIwKNj7a-",
        "outputId": "1df51744-a25a-46fc-d9b7-bbeeedfd7ae0"
      },
      "outputs": [],
      "source": [
        "# 2.3.5\n",
        "\n",
        "## Heuristic for A*\n",
        "## Needlessly complicated on such a small scale\n",
        "## Calculate the distance between two points on the surface of a sphere\n",
        "## It's somewhat off up here since the Earth isn't a perfect sphere\n",
        "\n",
        "def calc_spherical_distance(node_id, target_id):\n",
        "    lat_source,lon_source = coords[node_id]\n",
        "    lat_target,lon_target = coords[target_id]\n",
        "\n",
        "    radius = 6373.0\n",
        "\n",
        "    delta_lat = math.radians(lat_target) - math.radians(lat_source)\n",
        "    delta_lon = math.radians(lon_target) - math.radians(lon_source)\n",
        "\n",
        "    a = math.sin(delta_lat / 2)**2 + math.cos(lat_source) * math.cos(lat_target) * math.sin(delta_lon / 2)**2\n",
        "    c = 2 * math.atan2(math.sqrt(a), math.sqrt(1 - a))\n",
        "\n",
        "    distance = radius * c * 1000 #metres\n",
        "\n",
        "    return distance\n",
        "\n",
        "def astar_distance_to_charger(node_id, graph, charger_nodes):\n",
        "    min_distance = float('inf')\n",
        "    closest_station = None\n",
        "    for charger_id in charger_nodes:\n",
        "        try:\n",
        "            dist = nx.astar_path_length(graph, source=node_id, target=charger_id, heuristic=calc_spherical_distance, weight='weight')\n",
        "            if dist < min_distance:\n",
        "                min_distance = dist\n",
        "                closest_station = charger_id\n",
        "        except (nx.NetworkXNoPath, nx.NodeNotFound):\n",
        "            continue\n",
        "    return min_distance, closest_station\n",
        "\n",
        "\n",
        "## Return the sum for later use\n",
        "def run_astar(charging_station_nodes, benchmark):\n",
        "    if benchmark == True:\n",
        "        start_time = time.time()\n",
        "\n",
        "    for _, row in nodes.iterrows():\n",
        "        node_id = row['osmid']\n",
        "        distance, closest = astar_distance_to_charger(node_id, G_rev, charging_station_nodes)\n",
        "\n",
        "    if benchmark == True:\n",
        "        print(f\"Keyrsla tók {int(time.time() - start_time)}s\")\n",
        "\n",
        "run_astar(charging_station_nodes, True)"
      ]
    },
    {
      "cell_type": "code",
      "execution_count": 31,
      "metadata": {
        "colab": {
          "base_uri": "https://localhost:8080/"
        },
        "id": "VIqY8tgWLIsF",
        "outputId": "570e23fc-57ac-44c3-8129-401d2fafb519"
      },
      "outputs": [
        {
          "name": "stdout",
          "output_type": "stream",
          "text": [
            "New best node 12885876 with distance sum 98018295.05329466\n",
            "New best node 12885952 with distance sum 97933738.1278911\n",
            "New best node 12885979 with distance sum 97906567.2913269\n",
            "New best node 14586500 with distance sum 81929837.4873074\n",
            "New best node 14586684 with distance sum 80141451.82075226\n",
            "New best node 14586813 with distance sum 77624505.22615683\n",
            "New best node 21579442 with distance sum 76896826.69815318\n",
            "New best node 26480981 with distance sum 74535146.37644194\n",
            "New best node 34827739 with distance sum 71813532.58901912\n",
            "Keyrsla tók 32s\n"
          ]
        },
        {
          "data": {
            "text/plain": [
              "(osmid       34827739\n",
              " x         -21.845736\n",
              " y          64.114075\n",
              " primary         True\n",
              " Name: 589, dtype: object,\n",
              " 71813532.58901912)"
            ]
          },
          "execution_count": 31,
          "metadata": {},
          "output_type": "execute_result"
        }
      ],
      "source": [
        "# 2.3.6\n",
        "\n",
        "## For all primary nodes, run A* and check whichever is the closest to all nodes overall\n",
        "def simple_dijkstra(charger_id):\n",
        "    distances = nx.single_source_dijkstra_path_length(G_rev, charger_id, weight='weight')\n",
        "    distance_sum = sum(distances.values())\n",
        "\n",
        "    return distance_sum\n",
        "\n",
        "def process_node(node):\n",
        "    distance = simple_dijkstra(node.osmid)\n",
        "    return distance\n",
        "\n",
        "def place_optimal_charger():\n",
        "\n",
        "    # first get primary nodes\n",
        "    primary_nodes = []\n",
        "    for _, row in nodes.iterrows():\n",
        "        if row['primary'] == True:\n",
        "            primary_nodes.append(row)\n",
        "\n",
        "    start_time = time.time()\n",
        "\n",
        "    best_distance = float(\"inf\")\n",
        "    best_node = None\n",
        "\n",
        "    # don't need threads anymore\n",
        "    for node in primary_nodes:\n",
        "        distance = simple_dijkstra(node.osmid)\n",
        "\n",
        "        if distance < best_distance and distance != 0:\n",
        "            print(f\"New best node {node.osmid} with distance sum {distance}\")\n",
        "            best_distance = distance\n",
        "            best_node = node\n",
        "\n",
        "    print(f\"Keyrsla tók {int(time.time() - start_time)}s\")\n",
        "    return best_node, best_distance\n",
        "\n",
        "place_optimal_charger()"
      ]
    }
  ],
  "metadata": {
    "colab": {
      "authorship_tag": "ABX9TyNWMfNA0ZTbghksBamDbrH9",
      "include_colab_link": true,
      "provenance": []
    },
    "kernelspec": {
      "display_name": ".venv",
      "language": "python",
      "name": "python3"
    },
    "language_info": {
      "codemirror_mode": {
        "name": "ipython",
        "version": 3
      },
      "file_extension": ".py",
      "mimetype": "text/x-python",
      "name": "python",
      "nbconvert_exporter": "python",
      "pygments_lexer": "ipython3",
      "version": "3.13.2"
    }
  },
  "nbformat": 4,
  "nbformat_minor": 0
}
